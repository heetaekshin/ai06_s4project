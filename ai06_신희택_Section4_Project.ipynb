{
  "nbformat": 4,
  "nbformat_minor": 0,
  "metadata": {
    "colab": {
      "name": "ai06_신희택_Section4_Project.ipynb",
      "provenance": [],
      "collapsed_sections": [],
      "machine_shape": "hm"
    },
    "kernelspec": {
      "name": "python3",
      "display_name": "Python 3"
    },
    "language_info": {
      "name": "python"
    },
    "accelerator": "GPU"
  },
  "cells": [
    {
      "cell_type": "markdown",
      "metadata": {
        "id": "t1uvOF_FLPOB"
      },
      "source": [
        "# Section4 Project: 딥러닝을 활용한 주가예측"
      ]
    },
    {
      "cell_type": "markdown",
      "metadata": {
        "id": "OE5CYhUkLpkr"
      },
      "source": [
        "## 목차 ##"
      ]
    },
    {
      "cell_type": "markdown",
      "metadata": {
        "id": "W1CsZyblLu6u"
      },
      "source": [
        "1. 주제\n",
        "2. 데이터 선정\n",
        "3. "
      ]
    },
    {
      "cell_type": "markdown",
      "metadata": {
        "id": "zQI5qEf1OsUR"
      },
      "source": [
        "## 테스트 ##"
      ]
    },
    {
      "cell_type": "code",
      "metadata": {
        "colab": {
          "resources": {
            "http://localhost:8080/nbextensions/google.colab/files.js": {
              "data": "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",
              "ok": true,
              "headers": [
                [
                  "content-type",
                  "application/javascript"
                ]
              ],
              "status": 200,
              "status_text": ""
            }
          },
          "base_uri": "https://localhost:8080/",
          "height": 76
        },
        "id": "693_utuVXqmd",
        "outputId": "bc79a014-6f6c-472b-a66c-ac8ecf4ee702"
      },
      "source": [
        "# 파일 업로드\n",
        "from google.colab import files\n",
        "uploaded = files.upload()"
      ],
      "execution_count": 1,
      "outputs": [
        {
          "output_type": "display_data",
          "data": {
            "text/html": [
              "\n",
              "     <input type=\"file\" id=\"files-316f39c2-bd82-4ab6-9a2c-d29a91394050\" name=\"files[]\" multiple disabled\n",
              "        style=\"border:none\" />\n",
              "     <output id=\"result-316f39c2-bd82-4ab6-9a2c-d29a91394050\">\n",
              "      Upload widget is only available when the cell has been executed in the\n",
              "      current browser session. Please rerun this cell to enable.\n",
              "      </output>\n",
              "      <script src=\"/nbextensions/google.colab/files.js\"></script> "
            ],
            "text/plain": [
              "<IPython.core.display.HTML object>"
            ]
          },
          "metadata": {}
        },
        {
          "output_type": "stream",
          "name": "stdout",
          "text": [
            "Saving 000270.KS.csv to 000270.KS.csv\n"
          ]
        }
      ]
    },
    {
      "cell_type": "code",
      "metadata": {
        "colab": {
          "base_uri": "https://localhost:8080/",
          "height": 222
        },
        "id": "7fvIuo9SXk1M",
        "outputId": "ba1e62d4-29e0-4f13-db01-f9046570ff4a"
      },
      "source": [
        "# 데이터 불러오기(기아자동차 주가)\n",
        "import pandas as pd\n",
        "\n",
        "df_kia = pd.read_csv('/content/000270.KS.csv')\n",
        "print(df_kia.shape)\n",
        "df_kia.head()"
      ],
      "execution_count": 2,
      "outputs": [
        {
          "output_type": "stream",
          "name": "stdout",
          "text": [
            "(5490, 7)\n"
          ]
        },
        {
          "output_type": "execute_result",
          "data": {
            "text/html": [
              "<div>\n",
              "<style scoped>\n",
              "    .dataframe tbody tr th:only-of-type {\n",
              "        vertical-align: middle;\n",
              "    }\n",
              "\n",
              "    .dataframe tbody tr th {\n",
              "        vertical-align: top;\n",
              "    }\n",
              "\n",
              "    .dataframe thead th {\n",
              "        text-align: right;\n",
              "    }\n",
              "</style>\n",
              "<table border=\"1\" class=\"dataframe\">\n",
              "  <thead>\n",
              "    <tr style=\"text-align: right;\">\n",
              "      <th></th>\n",
              "      <th>Date</th>\n",
              "      <th>Open</th>\n",
              "      <th>High</th>\n",
              "      <th>Low</th>\n",
              "      <th>Close</th>\n",
              "      <th>Adj Close</th>\n",
              "      <th>Volume</th>\n",
              "    </tr>\n",
              "  </thead>\n",
              "  <tbody>\n",
              "    <tr>\n",
              "      <th>0</th>\n",
              "      <td>2000-01-04</td>\n",
              "      <td>7404.519043</td>\n",
              "      <td>7665.241699</td>\n",
              "      <td>7300.229980</td>\n",
              "      <td>7665.241699</td>\n",
              "      <td>5565.035156</td>\n",
              "      <td>636300.0</td>\n",
              "    </tr>\n",
              "    <tr>\n",
              "      <th>1</th>\n",
              "      <td>2000-01-05</td>\n",
              "      <td>7404.519043</td>\n",
              "      <td>7404.519043</td>\n",
              "      <td>7248.085449</td>\n",
              "      <td>7248.085449</td>\n",
              "      <td>5262.176758</td>\n",
              "      <td>686100.0</td>\n",
              "    </tr>\n",
              "    <tr>\n",
              "      <th>2</th>\n",
              "      <td>2000-01-06</td>\n",
              "      <td>7331.516602</td>\n",
              "      <td>7519.236816</td>\n",
              "      <td>6935.218262</td>\n",
              "      <td>6935.218262</td>\n",
              "      <td>5035.031250</td>\n",
              "      <td>379000.0</td>\n",
              "    </tr>\n",
              "    <tr>\n",
              "      <th>3</th>\n",
              "      <td>2000-01-07</td>\n",
              "      <td>6987.362793</td>\n",
              "      <td>7143.796387</td>\n",
              "      <td>6778.785156</td>\n",
              "      <td>6778.785156</td>\n",
              "      <td>4921.459473</td>\n",
              "      <td>701400.0</td>\n",
              "    </tr>\n",
              "    <tr>\n",
              "      <th>4</th>\n",
              "      <td>2000-01-10</td>\n",
              "      <td>6841.358398</td>\n",
              "      <td>7102.081055</td>\n",
              "      <td>6810.071777</td>\n",
              "      <td>7091.651855</td>\n",
              "      <td>5148.604004</td>\n",
              "      <td>1076700.0</td>\n",
              "    </tr>\n",
              "  </tbody>\n",
              "</table>\n",
              "</div>"
            ],
            "text/plain": [
              "         Date         Open         High  ...        Close    Adj Close     Volume\n",
              "0  2000-01-04  7404.519043  7665.241699  ...  7665.241699  5565.035156   636300.0\n",
              "1  2000-01-05  7404.519043  7404.519043  ...  7248.085449  5262.176758   686100.0\n",
              "2  2000-01-06  7331.516602  7519.236816  ...  6935.218262  5035.031250   379000.0\n",
              "3  2000-01-07  6987.362793  7143.796387  ...  6778.785156  4921.459473   701400.0\n",
              "4  2000-01-10  6841.358398  7102.081055  ...  7091.651855  5148.604004  1076700.0\n",
              "\n",
              "[5 rows x 7 columns]"
            ]
          },
          "metadata": {},
          "execution_count": 2
        }
      ]
    },
    {
      "cell_type": "markdown",
      "metadata": {
        "id": "Nn61LDfmCfsp"
      },
      "source": [
        "작업일: 2021-11-09 \\\n",
        "기아자동차 주가 데이터의 경우 2000-01-04부터 2021-11-08의 데이터를 사용하였다. \\\n",
        "* 2021-11-09 기아자동차 종가: 87,000원 \\\n",
        "모델을 구축하여 2021-11-09의 종가와 어느정도 차이가 있는지 비교할 것이다."
      ]
    },
    {
      "cell_type": "markdown",
      "metadata": {
        "id": "5W-0Uv20dTEF"
      },
      "source": [
        "Feature\n",
        "1. Date: 날짜\n",
        "2. Open: 시가\n",
        "3. High: 고가\n",
        "4. Low: 저가\n",
        "5. Close: 종가\n",
        "6. Adj Close: 조정후 종가 (주식의 분할, 배당, 배분 등을 고려한 가격)\n",
        "7. Volume: 거래량"
      ]
    },
    {
      "cell_type": "code",
      "metadata": {
        "colab": {
          "base_uri": "https://localhost:8080/"
        },
        "id": "yzHbhi1sYYu7",
        "outputId": "de506e80-64d2-4cda-b07f-5fa5e253ff87"
      },
      "source": [
        "# 특성 유형 확인\n",
        "df_kia.dtypes"
      ],
      "execution_count": 3,
      "outputs": [
        {
          "output_type": "execute_result",
          "data": {
            "text/plain": [
              "Date          object\n",
              "Open         float64\n",
              "High         float64\n",
              "Low          float64\n",
              "Close        float64\n",
              "Adj Close    float64\n",
              "Volume       float64\n",
              "dtype: object"
            ]
          },
          "metadata": {},
          "execution_count": 3
        }
      ]
    },
    {
      "cell_type": "markdown",
      "metadata": {
        "id": "f6BD_n8FY8cv"
      },
      "source": [
        "전처리 계획\n",
        "1. 결측치 제거\n",
        "2. Date 타입을 datetime으로 조정\n",
        "3. Open, High, Low, Close, Adj Close, Volume은 Int형으로 조정\n",
        "4. 'Date'를 인덱스로 설정\n",
        "5. 정규화"
      ]
    },
    {
      "cell_type": "code",
      "metadata": {
        "colab": {
          "base_uri": "https://localhost:8080/"
        },
        "id": "xTdu6d8TcNs8",
        "outputId": "6d551c98-a5c5-4768-d035-51f6d65c59f6"
      },
      "source": [
        "# 결측치 확인\n",
        "df_kia.isnull().sum()"
      ],
      "execution_count": 4,
      "outputs": [
        {
          "output_type": "execute_result",
          "data": {
            "text/plain": [
              "Date         0\n",
              "Open         6\n",
              "High         6\n",
              "Low          6\n",
              "Close        6\n",
              "Adj Close    6\n",
              "Volume       6\n",
              "dtype: int64"
            ]
          },
          "metadata": {},
          "execution_count": 4
        }
      ]
    },
    {
      "cell_type": "code",
      "metadata": {
        "colab": {
          "base_uri": "https://localhost:8080/"
        },
        "id": "yQlgYaKUce05",
        "outputId": "0d994d3e-5e2e-4b40-b6e3-8e0ea0a1fdff"
      },
      "source": [
        "# 결측치 제거\n",
        "df_kia = df_kia.dropna()\n",
        "print(df_kia.shape)\n",
        "df_kia.isnull().sum()"
      ],
      "execution_count": 5,
      "outputs": [
        {
          "output_type": "stream",
          "name": "stdout",
          "text": [
            "(5484, 7)\n"
          ]
        },
        {
          "output_type": "execute_result",
          "data": {
            "text/plain": [
              "Date         0\n",
              "Open         0\n",
              "High         0\n",
              "Low          0\n",
              "Close        0\n",
              "Adj Close    0\n",
              "Volume       0\n",
              "dtype: int64"
            ]
          },
          "metadata": {},
          "execution_count": 5
        }
      ]
    },
    {
      "cell_type": "code",
      "metadata": {
        "colab": {
          "base_uri": "https://localhost:8080/",
          "height": 235
        },
        "id": "FZNtWqq7YfZL",
        "outputId": "d7198553-0f8f-4362-f105-f00e15971323"
      },
      "source": [
        "# 전처리\n",
        "df_kia['Date'] = pd.to_datetime(df_kia['Date'])\n",
        "df_kia['Open'] = df_kia['Open'].astype('int')\n",
        "df_kia['High'] = df_kia['High'].astype('int')\n",
        "df_kia['Low'] = df_kia['Low'].astype('int')\n",
        "df_kia['Close'] = df_kia['Close'].astype('int')\n",
        "df_kia['Adj Close'] = df_kia['Adj Close'].astype('int')\n",
        "df_kia = df_kia.rename(columns={'Adj Close':'AdjClose'})\n",
        "df_kia['Volume'] = df_kia['Volume'].astype('int')\n",
        "df_kia = df_kia.set_index('Date')\n",
        "df_kia.head()"
      ],
      "execution_count": 6,
      "outputs": [
        {
          "output_type": "execute_result",
          "data": {
            "text/html": [
              "<div>\n",
              "<style scoped>\n",
              "    .dataframe tbody tr th:only-of-type {\n",
              "        vertical-align: middle;\n",
              "    }\n",
              "\n",
              "    .dataframe tbody tr th {\n",
              "        vertical-align: top;\n",
              "    }\n",
              "\n",
              "    .dataframe thead th {\n",
              "        text-align: right;\n",
              "    }\n",
              "</style>\n",
              "<table border=\"1\" class=\"dataframe\">\n",
              "  <thead>\n",
              "    <tr style=\"text-align: right;\">\n",
              "      <th></th>\n",
              "      <th>Open</th>\n",
              "      <th>High</th>\n",
              "      <th>Low</th>\n",
              "      <th>Close</th>\n",
              "      <th>AdjClose</th>\n",
              "      <th>Volume</th>\n",
              "    </tr>\n",
              "    <tr>\n",
              "      <th>Date</th>\n",
              "      <th></th>\n",
              "      <th></th>\n",
              "      <th></th>\n",
              "      <th></th>\n",
              "      <th></th>\n",
              "      <th></th>\n",
              "    </tr>\n",
              "  </thead>\n",
              "  <tbody>\n",
              "    <tr>\n",
              "      <th>2000-01-04</th>\n",
              "      <td>7404</td>\n",
              "      <td>7665</td>\n",
              "      <td>7300</td>\n",
              "      <td>7665</td>\n",
              "      <td>5565</td>\n",
              "      <td>636300</td>\n",
              "    </tr>\n",
              "    <tr>\n",
              "      <th>2000-01-05</th>\n",
              "      <td>7404</td>\n",
              "      <td>7404</td>\n",
              "      <td>7248</td>\n",
              "      <td>7248</td>\n",
              "      <td>5262</td>\n",
              "      <td>686100</td>\n",
              "    </tr>\n",
              "    <tr>\n",
              "      <th>2000-01-06</th>\n",
              "      <td>7331</td>\n",
              "      <td>7519</td>\n",
              "      <td>6935</td>\n",
              "      <td>6935</td>\n",
              "      <td>5035</td>\n",
              "      <td>379000</td>\n",
              "    </tr>\n",
              "    <tr>\n",
              "      <th>2000-01-07</th>\n",
              "      <td>6987</td>\n",
              "      <td>7143</td>\n",
              "      <td>6778</td>\n",
              "      <td>6778</td>\n",
              "      <td>4921</td>\n",
              "      <td>701400</td>\n",
              "    </tr>\n",
              "    <tr>\n",
              "      <th>2000-01-10</th>\n",
              "      <td>6841</td>\n",
              "      <td>7102</td>\n",
              "      <td>6810</td>\n",
              "      <td>7091</td>\n",
              "      <td>5148</td>\n",
              "      <td>1076700</td>\n",
              "    </tr>\n",
              "  </tbody>\n",
              "</table>\n",
              "</div>"
            ],
            "text/plain": [
              "            Open  High   Low  Close  AdjClose   Volume\n",
              "Date                                                  \n",
              "2000-01-04  7404  7665  7300   7665      5565   636300\n",
              "2000-01-05  7404  7404  7248   7248      5262   686100\n",
              "2000-01-06  7331  7519  6935   6935      5035   379000\n",
              "2000-01-07  6987  7143  6778   6778      4921   701400\n",
              "2000-01-10  6841  7102  6810   7091      5148  1076700"
            ]
          },
          "metadata": {},
          "execution_count": 6
        }
      ]
    },
    {
      "cell_type": "code",
      "metadata": {
        "colab": {
          "base_uri": "https://localhost:8080/"
        },
        "id": "FFcdtjsBaZfX",
        "outputId": "a22d0cfa-5de9-421c-ab5b-01485ee14b40"
      },
      "source": [
        "df_kia.dtypes"
      ],
      "execution_count": 7,
      "outputs": [
        {
          "output_type": "execute_result",
          "data": {
            "text/plain": [
              "Open        int64\n",
              "High        int64\n",
              "Low         int64\n",
              "Close       int64\n",
              "AdjClose    int64\n",
              "Volume      int64\n",
              "dtype: object"
            ]
          },
          "metadata": {},
          "execution_count": 7
        }
      ]
    },
    {
      "cell_type": "code",
      "metadata": {
        "id": "mjM9JkJlejf_"
      },
      "source": [
        "# 전처리 함수\n",
        "def preprocessing(df):\n",
        "    df = df.dropna()\n",
        "    df['Date'] = pd.to_datetime(df)\n",
        "    df['Open'] = df['Open'].astype('int')\n",
        "    df['High'] = df['High'].astype('int')\n",
        "    df['Low'] = df['Low'].astype('int')\n",
        "    df['Close'] = df['Close'].astype('int')\n",
        "    df['Adj Close'] = df['Adj Close'].astype('int')\n",
        "    df = df.rename(columns={'Adj Close':'AdjClose'})\n",
        "    df['Volume'] = df['Volume'].astype('int')\n",
        "    df = df.set_index('Date')\n",
        "    return df"
      ],
      "execution_count": 8,
      "outputs": []
    },
    {
      "cell_type": "code",
      "metadata": {
        "id": "Tg3OtsY9sNOr"
      },
      "source": [
        "# 정규화\n",
        "import numpy as np\n",
        "\n",
        "def MinMaxScaler(data):\n",
        "    numerator = data - np.min(data, 0)\n",
        "    denominator = np.max(data, 0) - np.min(data, 0)\n",
        "    return numerator / (denominator + 1e-7)\n",
        "\n",
        "df_kia_X = df_kia[['Open','High','Low','AdjClose', 'Volume']]\n",
        "df_kia_X_scaled = MinMaxScaler(df_kia_X)\n",
        "df_kia_y = df_kia_X_scaled[['AdjClose']]"
      ],
      "execution_count": 9,
      "outputs": []
    },
    {
      "cell_type": "code",
      "metadata": {
        "id": "-xpg71hh9VAY"
      },
      "source": [
        "kia_X = df_kia_X_scaled.values.tolist()\n",
        "kia_y = df_kia_y.values.tolist()"
      ],
      "execution_count": 10,
      "outputs": []
    },
    {
      "cell_type": "code",
      "metadata": {
        "colab": {
          "base_uri": "https://localhost:8080/",
          "height": 450
        },
        "id": "BFLQCxXD42RI",
        "outputId": "260ba8ca-cfb2-4991-991c-405632ed492a"
      },
      "source": [
        "df_kia_X_scaled"
      ],
      "execution_count": 11,
      "outputs": [
        {
          "output_type": "execute_result",
          "data": {
            "text/html": [
              "<div>\n",
              "<style scoped>\n",
              "    .dataframe tbody tr th:only-of-type {\n",
              "        vertical-align: middle;\n",
              "    }\n",
              "\n",
              "    .dataframe tbody tr th {\n",
              "        vertical-align: top;\n",
              "    }\n",
              "\n",
              "    .dataframe thead th {\n",
              "        text-align: right;\n",
              "    }\n",
              "</style>\n",
              "<table border=\"1\" class=\"dataframe\">\n",
              "  <thead>\n",
              "    <tr style=\"text-align: right;\">\n",
              "      <th></th>\n",
              "      <th>Open</th>\n",
              "      <th>High</th>\n",
              "      <th>Low</th>\n",
              "      <th>AdjClose</th>\n",
              "      <th>Volume</th>\n",
              "    </tr>\n",
              "    <tr>\n",
              "      <th>Date</th>\n",
              "      <th></th>\n",
              "      <th></th>\n",
              "      <th></th>\n",
              "      <th></th>\n",
              "      <th></th>\n",
              "    </tr>\n",
              "  </thead>\n",
              "  <tbody>\n",
              "    <tr>\n",
              "      <th>2000-01-04</th>\n",
              "      <td>0.031199</td>\n",
              "      <td>0.030861</td>\n",
              "      <td>0.032651</td>\n",
              "      <td>0.024079</td>\n",
              "      <td>0.013231</td>\n",
              "    </tr>\n",
              "    <tr>\n",
              "      <th>2000-01-05</th>\n",
              "      <td>0.031199</td>\n",
              "      <td>0.028180</td>\n",
              "      <td>0.032086</td>\n",
              "      <td>0.020997</td>\n",
              "      <td>0.014267</td>\n",
              "    </tr>\n",
              "    <tr>\n",
              "      <th>2000-01-06</th>\n",
              "      <td>0.030439</td>\n",
              "      <td>0.029361</td>\n",
              "      <td>0.028684</td>\n",
              "      <td>0.018687</td>\n",
              "      <td>0.007881</td>\n",
              "    </tr>\n",
              "    <tr>\n",
              "      <th>2000-01-07</th>\n",
              "      <td>0.026859</td>\n",
              "      <td>0.025499</td>\n",
              "      <td>0.026977</td>\n",
              "      <td>0.017528</td>\n",
              "      <td>0.014585</td>\n",
              "    </tr>\n",
              "    <tr>\n",
              "      <th>2000-01-10</th>\n",
              "      <td>0.025340</td>\n",
              "      <td>0.025077</td>\n",
              "      <td>0.027325</td>\n",
              "      <td>0.019837</td>\n",
              "      <td>0.022389</td>\n",
              "    </tr>\n",
              "    <tr>\n",
              "      <th>...</th>\n",
              "      <td>...</td>\n",
              "      <td>...</td>\n",
              "      <td>...</td>\n",
              "      <td>...</td>\n",
              "      <td>...</td>\n",
              "    </tr>\n",
              "    <tr>\n",
              "      <th>2021-11-02</th>\n",
              "      <td>0.831415</td>\n",
              "      <td>0.836653</td>\n",
              "      <td>0.863049</td>\n",
              "      <td>0.842323</td>\n",
              "      <td>0.028733</td>\n",
              "    </tr>\n",
              "    <tr>\n",
              "      <th>2021-11-03</th>\n",
              "      <td>0.860553</td>\n",
              "      <td>0.846927</td>\n",
              "      <td>0.872832</td>\n",
              "      <td>0.832150</td>\n",
              "      <td>0.018601</td>\n",
              "    </tr>\n",
              "    <tr>\n",
              "      <th>2021-11-04</th>\n",
              "      <td>0.849106</td>\n",
              "      <td>0.853091</td>\n",
              "      <td>0.882614</td>\n",
              "      <td>0.852495</td>\n",
              "      <td>0.035712</td>\n",
              "    </tr>\n",
              "    <tr>\n",
              "      <th>2021-11-05</th>\n",
              "      <td>0.873041</td>\n",
              "      <td>0.870555</td>\n",
              "      <td>0.905439</td>\n",
              "      <td>0.862668</td>\n",
              "      <td>0.061028</td>\n",
              "    </tr>\n",
              "    <tr>\n",
              "      <th>2021-11-08</th>\n",
              "      <td>0.880326</td>\n",
              "      <td>0.866446</td>\n",
              "      <td>0.909787</td>\n",
              "      <td>0.863685</td>\n",
              "      <td>0.031594</td>\n",
              "    </tr>\n",
              "  </tbody>\n",
              "</table>\n",
              "<p>5484 rows × 5 columns</p>\n",
              "</div>"
            ],
            "text/plain": [
              "                Open      High       Low  AdjClose    Volume\n",
              "Date                                                        \n",
              "2000-01-04  0.031199  0.030861  0.032651  0.024079  0.013231\n",
              "2000-01-05  0.031199  0.028180  0.032086  0.020997  0.014267\n",
              "2000-01-06  0.030439  0.029361  0.028684  0.018687  0.007881\n",
              "2000-01-07  0.026859  0.025499  0.026977  0.017528  0.014585\n",
              "2000-01-10  0.025340  0.025077  0.027325  0.019837  0.022389\n",
              "...              ...       ...       ...       ...       ...\n",
              "2021-11-02  0.831415  0.836653  0.863049  0.842323  0.028733\n",
              "2021-11-03  0.860553  0.846927  0.872832  0.832150  0.018601\n",
              "2021-11-04  0.849106  0.853091  0.882614  0.852495  0.035712\n",
              "2021-11-05  0.873041  0.870555  0.905439  0.862668  0.061028\n",
              "2021-11-08  0.880326  0.866446  0.909787  0.863685  0.031594\n",
              "\n",
              "[5484 rows x 5 columns]"
            ]
          },
          "metadata": {},
          "execution_count": 11
        }
      ]
    },
    {
      "cell_type": "code",
      "metadata": {
        "colab": {
          "base_uri": "https://localhost:8080/",
          "height": 450
        },
        "id": "H6JqF4225AHo",
        "outputId": "0eb40208-2939-4e39-81b0-6c0dca7e01ce"
      },
      "source": [
        "df_kia_y"
      ],
      "execution_count": 12,
      "outputs": [
        {
          "output_type": "execute_result",
          "data": {
            "text/html": [
              "<div>\n",
              "<style scoped>\n",
              "    .dataframe tbody tr th:only-of-type {\n",
              "        vertical-align: middle;\n",
              "    }\n",
              "\n",
              "    .dataframe tbody tr th {\n",
              "        vertical-align: top;\n",
              "    }\n",
              "\n",
              "    .dataframe thead th {\n",
              "        text-align: right;\n",
              "    }\n",
              "</style>\n",
              "<table border=\"1\" class=\"dataframe\">\n",
              "  <thead>\n",
              "    <tr style=\"text-align: right;\">\n",
              "      <th></th>\n",
              "      <th>AdjClose</th>\n",
              "    </tr>\n",
              "    <tr>\n",
              "      <th>Date</th>\n",
              "      <th></th>\n",
              "    </tr>\n",
              "  </thead>\n",
              "  <tbody>\n",
              "    <tr>\n",
              "      <th>2000-01-04</th>\n",
              "      <td>0.024079</td>\n",
              "    </tr>\n",
              "    <tr>\n",
              "      <th>2000-01-05</th>\n",
              "      <td>0.020997</td>\n",
              "    </tr>\n",
              "    <tr>\n",
              "      <th>2000-01-06</th>\n",
              "      <td>0.018687</td>\n",
              "    </tr>\n",
              "    <tr>\n",
              "      <th>2000-01-07</th>\n",
              "      <td>0.017528</td>\n",
              "    </tr>\n",
              "    <tr>\n",
              "      <th>2000-01-10</th>\n",
              "      <td>0.019837</td>\n",
              "    </tr>\n",
              "    <tr>\n",
              "      <th>...</th>\n",
              "      <td>...</td>\n",
              "    </tr>\n",
              "    <tr>\n",
              "      <th>2021-11-02</th>\n",
              "      <td>0.842323</td>\n",
              "    </tr>\n",
              "    <tr>\n",
              "      <th>2021-11-03</th>\n",
              "      <td>0.832150</td>\n",
              "    </tr>\n",
              "    <tr>\n",
              "      <th>2021-11-04</th>\n",
              "      <td>0.852495</td>\n",
              "    </tr>\n",
              "    <tr>\n",
              "      <th>2021-11-05</th>\n",
              "      <td>0.862668</td>\n",
              "    </tr>\n",
              "    <tr>\n",
              "      <th>2021-11-08</th>\n",
              "      <td>0.863685</td>\n",
              "    </tr>\n",
              "  </tbody>\n",
              "</table>\n",
              "<p>5484 rows × 1 columns</p>\n",
              "</div>"
            ],
            "text/plain": [
              "            AdjClose\n",
              "Date                \n",
              "2000-01-04  0.024079\n",
              "2000-01-05  0.020997\n",
              "2000-01-06  0.018687\n",
              "2000-01-07  0.017528\n",
              "2000-01-10  0.019837\n",
              "...              ...\n",
              "2021-11-02  0.842323\n",
              "2021-11-03  0.832150\n",
              "2021-11-04  0.852495\n",
              "2021-11-05  0.862668\n",
              "2021-11-08  0.863685\n",
              "\n",
              "[5484 rows x 1 columns]"
            ]
          },
          "metadata": {},
          "execution_count": 12
        }
      ]
    },
    {
      "cell_type": "markdown",
      "metadata": {
        "id": "c818bst05-Ae"
      },
      "source": [
        "### 데이터셋 준비 ###"
      ]
    },
    {
      "cell_type": "markdown",
      "metadata": {
        "id": "GjmFtOTi7JbS"
      },
      "source": [
        "![차트.png](data:image/png;base64,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)\n",
        "출처: 네이버 금융(기아자동차 차트)"
      ]
    },
    {
      "cell_type": "markdown",
      "metadata": {
        "id": "9ummIQT56Fe8"
      },
      "source": [
        "주식 차트를 보게 되면 5, 10, 20, 60, 120일 단위의 이동평균선(Moving Average Line)도 함께 확인할 수 있다. 이동평균은 과거 일정 기간의 주가의 평균치를 의미한다. 이번 프로젝트에서는 주식차트에서 흔히 사용하는 이동평균 기간을 적용하여 모델을 학습하여 실제 주가와의 차이를 구하고, 실제 주가와 가장 유사한 이동평균 기간을 채택하여 모델의 하이퍼파라미터 수정을 통해 최적의 모델을 설계하는 것이 목표이며, 타 주식 데이터에 적용했을 때의 타당성 또한 평가하고자 한다.\n",
        "1. 5일\n",
        "2. 10일\n",
        "3. 20일\n",
        "4. 60일\n",
        "6. 120일"
      ]
    },
    {
      "cell_type": "markdown",
      "metadata": {
        "id": "KKEfuDZE--bz"
      },
      "source": [
        "#### 모델학습 ####"
      ]
    },
    {
      "cell_type": "code",
      "metadata": {
        "id": "BzBZPza0EozR"
      },
      "source": [
        "from tensorflow.keras import Sequential, regularizers\n",
        "from tensorflow.keras.layers import Dense, LSTM, RNN, Dropout, SimpleRNN\n",
        "import matplotlib.pyplot as plt"
      ],
      "execution_count": 13,
      "outputs": []
    },
    {
      "cell_type": "markdown",
      "metadata": {
        "id": "ze-E0aVg_Jgj"
      },
      "source": [
        "##### 적용기간: 5일 #####"
      ]
    },
    {
      "cell_type": "code",
      "metadata": {
        "id": "rfpyG2QR8oAX"
      },
      "source": [
        "# window_size = 5\n",
        "kia_data_X_5 = []\n",
        "kia_data_y_5 = []\n",
        "for i in range(len(kia_y) - 5):\n",
        "    _X_5 = kia_X[i : i + 5]\n",
        "    _y_5 = kia_y[i + 5]\n",
        "    kia_data_X_5.append(_X_5)\n",
        "    kia_data_y_5.append(_y_5)"
      ],
      "execution_count": 14,
      "outputs": []
    },
    {
      "cell_type": "code",
      "metadata": {
        "id": "0dOCfxGRAEwF"
      },
      "source": [
        "# 데이터셋 분리: 훈련 70%, 테스트 30%로 분리\n",
        "\n",
        "# 훈련 데이터셋\n",
        "train_size_5 = int(len(kia_data_y_5) * 0.7)\n",
        "train_kia_X_5 = np.array(kia_data_X_5[0 : train_size_5])\n",
        "train_kia_y_5 = np.array(kia_data_y_5[0 : train_size_5])\n",
        "\n",
        "# 테스트 데이터셋\n",
        "test_size_5 = len(kia_data_y_5) - train_size_5\n",
        "test_kia_X_5 = np.array(kia_data_X_5[train_size_5 : len(kia_data_X_5)])\n",
        "test_kia_y_5 = np.array(kia_data_y_5[train_size_5 : len(kia_data_y_5)])"
      ],
      "execution_count": 15,
      "outputs": []
    },
    {
      "cell_type": "code",
      "metadata": {
        "colab": {
          "base_uri": "https://localhost:8080/"
        },
        "id": "1v3scgKrEk4y",
        "outputId": "d1638544-1ce0-40d1-ad95-f2603b65c250"
      },
      "source": [
        "# 모델 생성: LSTM\n",
        "model_5 = Sequential()\n",
        "model_5.add(LSTM(units=5, return_sequences=False, input_shape=(5, 5)))\n",
        "model_5.add(Dropout(0.1))\n",
        "model_5.add(Dense(units=5))\n",
        "model_5.add(Dropout(0.1))\n",
        "model_5.add(Dense(units=1))\n",
        "model_5.summary()"
      ],
      "execution_count": 18,
      "outputs": [
        {
          "output_type": "stream",
          "name": "stdout",
          "text": [
            "Model: \"sequential_2\"\n",
            "_________________________________________________________________\n",
            " Layer (type)                Output Shape              Param #   \n",
            "=================================================================\n",
            " lstm_3 (LSTM)               (None, 5)                 220       \n",
            "                                                                 \n",
            " dropout_3 (Dropout)         (None, 5)                 0         \n",
            "                                                                 \n",
            " dense_2 (Dense)             (None, 5)                 30        \n",
            "                                                                 \n",
            " dropout_4 (Dropout)         (None, 5)                 0         \n",
            "                                                                 \n",
            " dense_3 (Dense)             (None, 1)                 6         \n",
            "                                                                 \n",
            "=================================================================\n",
            "Total params: 256\n",
            "Trainable params: 256\n",
            "Non-trainable params: 0\n",
            "_________________________________________________________________\n"
          ]
        }
      ]
    },
    {
      "cell_type": "code",
      "metadata": {
        "colab": {
          "base_uri": "https://localhost:8080/"
        },
        "id": "0lDGhdGnId0Z",
        "outputId": "7274a191-ea0e-4a2e-c530-4740b12ad949"
      },
      "source": [
        "model_5.compile(optimizer='adam', loss='mean_squared_error', metrics=['mae'])\n",
        "model_5.fit(train_kia_X_5, train_kia_y_5, epochs=30, batch_size=32)\n",
        "pred_kia_y_5 = model_5.predict(test_kia_X_5)"
      ],
      "execution_count": 19,
      "outputs": [
        {
          "output_type": "stream",
          "name": "stdout",
          "text": [
            "Epoch 1/30\n",
            "120/120 [==============================] - 6s 5ms/step - loss: 0.0154 - mae: 0.0635\n",
            "Epoch 2/30\n",
            "120/120 [==============================] - 1s 4ms/step - loss: 0.0064 - mae: 0.0418\n",
            "Epoch 3/30\n",
            "120/120 [==============================] - 1s 5ms/step - loss: 0.0057 - mae: 0.0389\n",
            "Epoch 4/30\n",
            "120/120 [==============================] - 1s 5ms/step - loss: 0.0044 - mae: 0.0356\n",
            "Epoch 5/30\n",
            "120/120 [==============================] - 1s 5ms/step - loss: 0.0039 - mae: 0.0365\n",
            "Epoch 6/30\n",
            "120/120 [==============================] - 1s 5ms/step - loss: 0.0033 - mae: 0.0362\n",
            "Epoch 7/30\n",
            "120/120 [==============================] - 1s 5ms/step - loss: 0.0029 - mae: 0.0346\n",
            "Epoch 8/30\n",
            "120/120 [==============================] - 1s 5ms/step - loss: 0.0030 - mae: 0.0359\n",
            "Epoch 9/30\n",
            "120/120 [==============================] - 1s 5ms/step - loss: 0.0030 - mae: 0.0360\n",
            "Epoch 10/30\n",
            "120/120 [==============================] - 1s 5ms/step - loss: 0.0026 - mae: 0.0352\n",
            "Epoch 11/30\n",
            "120/120 [==============================] - 1s 5ms/step - loss: 0.0024 - mae: 0.0339\n",
            "Epoch 12/30\n",
            "120/120 [==============================] - 1s 4ms/step - loss: 0.0026 - mae: 0.0344\n",
            "Epoch 13/30\n",
            "120/120 [==============================] - 1s 5ms/step - loss: 0.0024 - mae: 0.0342\n",
            "Epoch 14/30\n",
            "120/120 [==============================] - 1s 5ms/step - loss: 0.0023 - mae: 0.0327\n",
            "Epoch 15/30\n",
            "120/120 [==============================] - 1s 4ms/step - loss: 0.0025 - mae: 0.0342\n",
            "Epoch 16/30\n",
            "120/120 [==============================] - 1s 5ms/step - loss: 0.0021 - mae: 0.0325\n",
            "Epoch 17/30\n",
            "120/120 [==============================] - 1s 4ms/step - loss: 0.0021 - mae: 0.0321\n",
            "Epoch 18/30\n",
            "120/120 [==============================] - 1s 5ms/step - loss: 0.0021 - mae: 0.0314\n",
            "Epoch 19/30\n",
            "120/120 [==============================] - 1s 4ms/step - loss: 0.0021 - mae: 0.0318\n",
            "Epoch 20/30\n",
            "120/120 [==============================] - 1s 5ms/step - loss: 0.0020 - mae: 0.0315\n",
            "Epoch 21/30\n",
            "120/120 [==============================] - 1s 5ms/step - loss: 0.0019 - mae: 0.0306\n",
            "Epoch 22/30\n",
            "120/120 [==============================] - 1s 4ms/step - loss: 0.0021 - mae: 0.0319\n",
            "Epoch 23/30\n",
            "120/120 [==============================] - 1s 5ms/step - loss: 0.0021 - mae: 0.0314\n",
            "Epoch 24/30\n",
            "120/120 [==============================] - 1s 4ms/step - loss: 0.0020 - mae: 0.0314\n",
            "Epoch 25/30\n",
            "120/120 [==============================] - 1s 4ms/step - loss: 0.0020 - mae: 0.0312\n",
            "Epoch 26/30\n",
            "120/120 [==============================] - 1s 5ms/step - loss: 0.0021 - mae: 0.0321\n",
            "Epoch 27/30\n",
            "120/120 [==============================] - 1s 5ms/step - loss: 0.0021 - mae: 0.0322\n",
            "Epoch 28/30\n",
            "120/120 [==============================] - 1s 5ms/step - loss: 0.0020 - mae: 0.0315\n",
            "Epoch 29/30\n",
            "120/120 [==============================] - 1s 5ms/step - loss: 0.0018 - mae: 0.0305\n",
            "Epoch 30/30\n",
            "120/120 [==============================] - 1s 5ms/step - loss: 0.0019 - mae: 0.0303\n"
          ]
        }
      ]
    },
    {
      "cell_type": "code",
      "metadata": {
        "colab": {
          "base_uri": "https://localhost:8080/",
          "height": 295
        },
        "id": "iKU0OkHcMGEW",
        "outputId": "9d20c6c8-354c-48e9-f4a0-863d64212292"
      },
      "source": [
        "# 시각화를 통한 테스트데이터와 예측값과의 차이 확인\n",
        "plt.figure()\n",
        "plt.plot(test_kia_y_5, color='red', label='real KIA Co. stock price')\n",
        "plt.plot(pred_kia_y_5, color='blue', label='predicted KIA Co. stock price')\n",
        "plt.title('KIA Co. stock price prediction(window_size: 5)')\n",
        "plt.xlabel('time')\n",
        "plt.ylabel('stock price')\n",
        "plt.legend()\n",
        "plt.show()"
      ],
      "execution_count": 20,
      "outputs": [
        {
          "output_type": "display_data",
          "data": {
            "image/png": "[encoded data removed]",
            "text/plain": [
              "<Figure size 432x288 with 1 Axes>"
            ]
          },
          "metadata": {
            "needs_background": "light"
          }
        }
      ]
    },
    {
      "cell_type": "code",
      "metadata": {
        "colab": {
          "base_uri": "https://localhost:8080/"
        },
        "id": "HHlfjSgqNXV9",
        "outputId": "a2c828f5-9501-4208-99da-0b13f8962d23"
      },
      "source": [
        "# 예측 종가\n",
        "print('예측종가: ', int(df_kia.AdjClose[-1]*pred_kia_y_5[-1]/df_kia_y.AdjClose[-1]),'원')\n",
        "print('실제종가: 87,000원')\n",
        "print('예측종가 - 실제종가: ', int(df_kia.AdjClose[-1]*pred_kia_y_5[-1]/df_kia_y.AdjClose[-1])-87000)"
      ],
      "execution_count": 21,
      "outputs": [
        {
          "output_type": "stream",
          "name": "stdout",
          "text": [
            "예측종가:  71791 원\n",
            "실제종가: 87,000원\n",
            "예측종가 - 실제종가:  -15209\n"
          ]
        }
      ]
    },
    {
      "cell_type": "markdown",
      "metadata": {
        "id": "Lgl6RZFh_TpG"
      },
      "source": [
        "##### 적용기간: 10일 #####"
      ]
    },
    {
      "cell_type": "code",
      "metadata": {
        "id": "G9hbbv8j8qX0"
      },
      "source": [
        "# window_size = 10\n",
        "kia_data_X_10 = []\n",
        "kia_data_y_10 = []\n",
        "for i in range(len(kia_y) - 10):\n",
        "    _X_10 = kia_X[i : i + 10]\n",
        "    _y_10 = kia_y[i + 10]\n",
        "    kia_data_X_10.append(_X_10)\n",
        "    kia_data_y_10.append(_y_10)"
      ],
      "execution_count": 22,
      "outputs": []
    },
    {
      "cell_type": "code",
      "metadata": {
        "id": "JNUVnl_pLPUF"
      },
      "source": [
        "# 데이터셋 분리: 훈련 70%, 테스트 30%로 분리\n",
        "\n",
        "# 훈련 데이터셋\n",
        "train_size_10 = int(len(kia_data_y_10) * 0.7)\n",
        "train_kia_X_10 = np.array(kia_data_X_10[0 : train_size_10])\n",
        "train_kia_y_10 = np.array(kia_data_y_10[0 : train_size_10])\n",
        "\n",
        "# 테스트 데이터셋\n",
        "test_size_10 = len(kia_data_y_10) - train_size_10\n",
        "test_kia_X_10 = np.array(kia_data_X_10[train_size_10 : len(kia_data_X_10)])\n",
        "test_kia_y_10 = np.array(kia_data_y_10[train_size_10 : len(kia_data_y_10)])"
      ],
      "execution_count": 23,
      "outputs": []
    },
    {
      "cell_type": "code",
      "metadata": {
        "colab": {
          "base_uri": "https://localhost:8080/"
        },
        "id": "vVrvd13wLcpD",
        "outputId": "771fb8ad-fb86-4260-9203-fb2120f3ce32"
      },
      "source": [
        "# 모델 생성: LSTM\n",
        "model_10 = Sequential()\n",
        "model_10.add(LSTM(units=10, return_sequences=False, input_shape=(10, 5)))\n",
        "model_10.add(Dropout(0.1))\n",
        "model_10.add(Dense(units=10))\n",
        "model_10.add(Dropout(0.1))\n",
        "model_10.add(Dense(units=1))\n",
        "model_10.summary()"
      ],
      "execution_count": 25,
      "outputs": [
        {
          "output_type": "stream",
          "name": "stdout",
          "text": [
            "Model: \"sequential_4\"\n",
            "_________________________________________________________________\n",
            " Layer (type)                Output Shape              Param #   \n",
            "=================================================================\n",
            " lstm_5 (LSTM)               (None, 10)                640       \n",
            "                                                                 \n",
            " dropout_7 (Dropout)         (None, 10)                0         \n",
            "                                                                 \n",
            " dense_6 (Dense)             (None, 10)                110       \n",
            "                                                                 \n",
            " dropout_8 (Dropout)         (None, 10)                0         \n",
            "                                                                 \n",
            " dense_7 (Dense)             (None, 1)                 11        \n",
            "                                                                 \n",
            "=================================================================\n",
            "Total params: 761\n",
            "Trainable params: 761\n",
            "Non-trainable params: 0\n",
            "_________________________________________________________________\n"
          ]
        }
      ]
    },
    {
      "cell_type": "code",
      "metadata": {
        "colab": {
          "base_uri": "https://localhost:8080/"
        },
        "id": "zeT_cmWDLqYh",
        "outputId": "d50ade77-f259-4345-f267-2a7b877c51aa"
      },
      "source": [
        "model_10.compile(optimizer='adam', loss='mean_squared_error', metrics=['mae'])\n",
        "model_10.fit(train_kia_X_10, train_kia_y_10, epochs=30, batch_size=32)\n",
        "pred_kia_y_10 = model_10.predict(test_kia_X_10)"
      ],
      "execution_count": 26,
      "outputs": [
        {
          "output_type": "stream",
          "name": "stdout",
          "text": [
            "Epoch 1/30\n",
            "120/120 [==============================] - 3s 5ms/step - loss: 0.0397 - mae: 0.1188\n",
            "Epoch 2/30\n",
            "120/120 [==============================] - 1s 5ms/step - loss: 0.0044 - mae: 0.0383\n",
            "Epoch 3/30\n",
            "120/120 [==============================] - 1s 5ms/step - loss: 0.0034 - mae: 0.0349\n",
            "Epoch 4/30\n",
            "120/120 [==============================] - 1s 5ms/step - loss: 0.0026 - mae: 0.0308\n",
            "Epoch 5/30\n",
            "120/120 [==============================] - 1s 5ms/step - loss: 0.0024 - mae: 0.0301\n",
            "Epoch 6/30\n",
            "120/120 [==============================] - 1s 5ms/step - loss: 0.0020 - mae: 0.0283\n",
            "Epoch 7/30\n",
            "120/120 [==============================] - 1s 5ms/step - loss: 0.0018 - mae: 0.0268\n",
            "Epoch 8/30\n",
            "120/120 [==============================] - 1s 5ms/step - loss: 0.0017 - mae: 0.0271\n",
            "Epoch 9/30\n",
            "120/120 [==============================] - 1s 5ms/step - loss: 0.0016 - mae: 0.0265\n",
            "Epoch 10/30\n",
            "120/120 [==============================] - 1s 5ms/step - loss: 0.0015 - mae: 0.0253\n",
            "Epoch 11/30\n",
            "120/120 [==============================] - 1s 5ms/step - loss: 0.0015 - mae: 0.0255\n",
            "Epoch 12/30\n",
            "120/120 [==============================] - 1s 5ms/step - loss: 0.0013 - mae: 0.0248\n",
            "Epoch 13/30\n",
            "120/120 [==============================] - 1s 5ms/step - loss: 0.0013 - mae: 0.0248\n",
            "Epoch 14/30\n",
            "120/120 [==============================] - 1s 5ms/step - loss: 0.0013 - mae: 0.0247\n",
            "Epoch 15/30\n",
            "120/120 [==============================] - 1s 5ms/step - loss: 0.0013 - mae: 0.0248\n",
            "Epoch 16/30\n",
            "120/120 [==============================] - 1s 5ms/step - loss: 0.0013 - mae: 0.0244\n",
            "Epoch 17/30\n",
            "120/120 [==============================] - 1s 5ms/step - loss: 0.0013 - mae: 0.0241\n",
            "Epoch 18/30\n",
            "120/120 [==============================] - 1s 5ms/step - loss: 0.0013 - mae: 0.0246\n",
            "Epoch 19/30\n",
            "120/120 [==============================] - 1s 5ms/step - loss: 0.0013 - mae: 0.0241\n",
            "Epoch 20/30\n",
            "120/120 [==============================] - 1s 5ms/step - loss: 0.0012 - mae: 0.0238\n",
            "Epoch 21/30\n",
            "120/120 [==============================] - 1s 5ms/step - loss: 0.0012 - mae: 0.0236\n",
            "Epoch 22/30\n",
            "120/120 [==============================] - 1s 5ms/step - loss: 0.0013 - mae: 0.0242\n",
            "Epoch 23/30\n",
            "120/120 [==============================] - 1s 5ms/step - loss: 0.0011 - mae: 0.0227\n",
            "Epoch 24/30\n",
            "120/120 [==============================] - 1s 5ms/step - loss: 0.0012 - mae: 0.0234\n",
            "Epoch 25/30\n",
            "120/120 [==============================] - 1s 5ms/step - loss: 0.0012 - mae: 0.0231\n",
            "Epoch 26/30\n",
            "120/120 [==============================] - 1s 5ms/step - loss: 0.0012 - mae: 0.0232\n",
            "Epoch 27/30\n",
            "120/120 [==============================] - 1s 5ms/step - loss: 0.0011 - mae: 0.0229\n",
            "Epoch 28/30\n",
            "120/120 [==============================] - 1s 5ms/step - loss: 0.0012 - mae: 0.0236\n",
            "Epoch 29/30\n",
            "120/120 [==============================] - 1s 5ms/step - loss: 0.0011 - mae: 0.0234\n",
            "Epoch 30/30\n",
            "120/120 [==============================] - 1s 5ms/step - loss: 0.0010 - mae: 0.0228\n"
          ]
        }
      ]
    },
    {
      "cell_type": "code",
      "metadata": {
        "colab": {
          "base_uri": "https://localhost:8080/",
          "height": 295
        },
        "id": "DeFjt3ioNH8t",
        "outputId": "79cbf0f3-466c-4b14-8788-d8dd6df60249"
      },
      "source": [
        "plt.figure()\n",
        "plt.plot(test_kia_y_10, color='red', label='real KIA Co. stock price')\n",
        "plt.plot(pred_kia_y_10, color='blue', label='predicted KIA Co. stock price')\n",
        "plt.title('KIA Co. stock price prediction(window_size: 10)')\n",
        "plt.xlabel('time')\n",
        "plt.ylabel('stock price')\n",
        "plt.legend()\n",
        "plt.show()"
      ],
      "execution_count": 27,
      "outputs": [
        {
          "output_type": "display_data",
          "data": {
            "image/png": "[encoded data removed]",
            "text/plain": [
              "<Figure size 432x288 with 1 Axes>"
            ]
          },
          "metadata": {
            "needs_background": "light"
          }
        }
      ]
    },
    {
      "cell_type": "code",
      "metadata": {
        "colab": {
          "base_uri": "https://localhost:8080/"
        },
        "id": "-2QuCmhXNO6g",
        "outputId": "5a7a77b6-f90d-4204-fab6-e9dea074897e"
      },
      "source": [
        "# 예측 종가\n",
        "print('예측종가: ', int(df_kia.AdjClose[-1]*pred_kia_y_10[-1]/df_kia_y.AdjClose[-1]),'원')\n",
        "print('실제종가: 87,000원')\n",
        "print('예측종가 - 실제종가: ', int(df_kia.AdjClose[-1]*pred_kia_y_10[-1]/df_kia_y.AdjClose[-1])-87000)"
      ],
      "execution_count": 28,
      "outputs": [
        {
          "output_type": "stream",
          "name": "stdout",
          "text": [
            "예측종가:  72208 원\n",
            "실제종가: 87,000원\n",
            "예측종가 - 실제종가:  -14792\n"
          ]
        }
      ]
    },
    {
      "cell_type": "markdown",
      "metadata": {
        "id": "XjMeytPE_Vp8"
      },
      "source": [
        "##### 적용기간: 20일 #####"
      ]
    },
    {
      "cell_type": "code",
      "metadata": {
        "id": "7zptEqki8qPC"
      },
      "source": [
        "# window_size = 20\n",
        "kia_data_X_20 = []\n",
        "kia_data_y_20 = []\n",
        "for i in range(len(kia_y) - 20):\n",
        "    _X_20 = kia_X[i : i + 20]\n",
        "    _y_20 = kia_y[i + 20]\n",
        "    kia_data_X_20.append(_X_20)\n",
        "    kia_data_y_20.append(_y_20)"
      ],
      "execution_count": 29,
      "outputs": []
    },
    {
      "cell_type": "code",
      "metadata": {
        "id": "0BovAVl8cyiv"
      },
      "source": [
        "# 데이터셋 분리: 훈련 70%, 테스트 30%로 분리\n",
        "\n",
        "# 훈련 데이터셋\n",
        "train_size_20 = int(len(kia_data_y_20) * 0.7)\n",
        "train_kia_X_20 = np.array(kia_data_X_20[0 : train_size_20])\n",
        "train_kia_y_20 = np.array(kia_data_y_20[0 : train_size_20])\n",
        "\n",
        "# 테스트 데이터셋\n",
        "test_size_20 = len(kia_data_y_20) - train_size_20\n",
        "test_kia_X_20 = np.array(kia_data_X_20[train_size_20 : len(kia_data_X_20)])\n",
        "test_kia_y_20 = np.array(kia_data_y_20[train_size_20 : len(kia_data_y_20)])"
      ],
      "execution_count": 30,
      "outputs": []
    },
    {
      "cell_type": "code",
      "metadata": {
        "colab": {
          "base_uri": "https://localhost:8080/"
        },
        "id": "7nuI2FuPdAJn",
        "outputId": "b2197e9d-b161-46df-ebdd-2dc7cdecb8ab"
      },
      "source": [
        "# 모델 생성: LSTM\n",
        "model_20 = Sequential()\n",
        "model_20.add(LSTM(units=20, return_sequences=False, input_shape=(20, 5)))\n",
        "model_20.add(Dropout(0.1))\n",
        "model_20.add(Dense(units=20))\n",
        "model_20.add(Dropout(0.1))\n",
        "model_20.add(Dense(units=1))\n",
        "model_20.summary()"
      ],
      "execution_count": 31,
      "outputs": [
        {
          "output_type": "stream",
          "name": "stdout",
          "text": [
            "Model: \"sequential_5\"\n",
            "_________________________________________________________________\n",
            " Layer (type)                Output Shape              Param #   \n",
            "=================================================================\n",
            " lstm_6 (LSTM)               (None, 20)                2080      \n",
            "                                                                 \n",
            " dropout_9 (Dropout)         (None, 20)                0         \n",
            "                                                                 \n",
            " dense_8 (Dense)             (None, 20)                420       \n",
            "                                                                 \n",
            " dropout_10 (Dropout)        (None, 20)                0         \n",
            "                                                                 \n",
            " dense_9 (Dense)             (None, 1)                 21        \n",
            "                                                                 \n",
            "=================================================================\n",
            "Total params: 2,521\n",
            "Trainable params: 2,521\n",
            "Non-trainable params: 0\n",
            "_________________________________________________________________\n"
          ]
        }
      ]
    },
    {
      "cell_type": "code",
      "metadata": {
        "colab": {
          "base_uri": "https://localhost:8080/"
        },
        "id": "BaSW2aL5dIjt",
        "outputId": "382a56c1-2e3d-4287-e61a-ca3f5c4e9b22"
      },
      "source": [
        "model_20.compile(optimizer='adam', loss='mean_squared_error', metrics=['mae'])\n",
        "model_20.fit(train_kia_X_20, train_kia_y_20, epochs=30, batch_size=32)\n",
        "pred_kia_y_20 = model_20.predict(test_kia_X_20)"
      ],
      "execution_count": 32,
      "outputs": [
        {
          "output_type": "stream",
          "name": "stdout",
          "text": [
            "Epoch 1/30\n",
            "120/120 [==============================] - 3s 5ms/step - loss: 0.0108 - mae: 0.0565\n",
            "Epoch 2/30\n",
            "120/120 [==============================] - 1s 5ms/step - loss: 0.0023 - mae: 0.0275\n",
            "Epoch 3/30\n",
            "120/120 [==============================] - 1s 5ms/step - loss: 0.0016 - mae: 0.0235\n",
            "Epoch 4/30\n",
            "120/120 [==============================] - 1s 5ms/step - loss: 0.0013 - mae: 0.0210\n",
            "Epoch 5/30\n",
            "120/120 [==============================] - 1s 5ms/step - loss: 0.0011 - mae: 0.0198\n",
            "Epoch 6/30\n",
            "120/120 [==============================] - 1s 5ms/step - loss: 0.0011 - mae: 0.0189\n",
            "Epoch 7/30\n",
            "120/120 [==============================] - 1s 5ms/step - loss: 9.2431e-04 - mae: 0.0182\n",
            "Epoch 8/30\n",
            "120/120 [==============================] - 1s 5ms/step - loss: 8.8498e-04 - mae: 0.0178\n",
            "Epoch 9/30\n",
            "120/120 [==============================] - 1s 5ms/step - loss: 9.4664e-04 - mae: 0.0186\n",
            "Epoch 10/30\n",
            "120/120 [==============================] - 1s 5ms/step - loss: 8.2595e-04 - mae: 0.0173\n",
            "Epoch 11/30\n",
            "120/120 [==============================] - 1s 5ms/step - loss: 7.7921e-04 - mae: 0.0171\n",
            "Epoch 12/30\n",
            "120/120 [==============================] - 1s 5ms/step - loss: 8.3610e-04 - mae: 0.0178\n",
            "Epoch 13/30\n",
            "120/120 [==============================] - 1s 5ms/step - loss: 7.5517e-04 - mae: 0.0175\n",
            "Epoch 14/30\n",
            "120/120 [==============================] - 1s 5ms/step - loss: 7.2750e-04 - mae: 0.0172\n",
            "Epoch 15/30\n",
            "120/120 [==============================] - 1s 5ms/step - loss: 7.2930e-04 - mae: 0.0171\n",
            "Epoch 16/30\n",
            "120/120 [==============================] - 1s 5ms/step - loss: 7.1132e-04 - mae: 0.0175\n",
            "Epoch 17/30\n",
            "120/120 [==============================] - 1s 5ms/step - loss: 6.8219e-04 - mae: 0.0172\n",
            "Epoch 18/30\n",
            "120/120 [==============================] - 1s 5ms/step - loss: 6.3063e-04 - mae: 0.0165\n",
            "Epoch 19/30\n",
            "120/120 [==============================] - 1s 5ms/step - loss: 6.9938e-04 - mae: 0.0174\n",
            "Epoch 20/30\n",
            "120/120 [==============================] - 1s 5ms/step - loss: 6.0830e-04 - mae: 0.0164\n",
            "Epoch 21/30\n",
            "120/120 [==============================] - 1s 5ms/step - loss: 6.7254e-04 - mae: 0.0172\n",
            "Epoch 22/30\n",
            "120/120 [==============================] - 1s 5ms/step - loss: 6.2155e-04 - mae: 0.0169\n",
            "Epoch 23/30\n",
            "120/120 [==============================] - 1s 5ms/step - loss: 6.3891e-04 - mae: 0.0170\n",
            "Epoch 24/30\n",
            "120/120 [==============================] - 1s 5ms/step - loss: 5.7726e-04 - mae: 0.0166\n",
            "Epoch 25/30\n",
            "120/120 [==============================] - 1s 5ms/step - loss: 6.4278e-04 - mae: 0.0173\n",
            "Epoch 26/30\n",
            "120/120 [==============================] - 1s 5ms/step - loss: 6.0418e-04 - mae: 0.0168\n",
            "Epoch 27/30\n",
            "120/120 [==============================] - 1s 5ms/step - loss: 5.9493e-04 - mae: 0.0169\n",
            "Epoch 28/30\n",
            "120/120 [==============================] - 1s 5ms/step - loss: 6.2260e-04 - mae: 0.0171\n",
            "Epoch 29/30\n",
            "120/120 [==============================] - 1s 5ms/step - loss: 6.2804e-04 - mae: 0.0175\n",
            "Epoch 30/30\n",
            "120/120 [==============================] - 1s 5ms/step - loss: 5.8841e-04 - mae: 0.0172\n"
          ]
        }
      ]
    },
    {
      "cell_type": "code",
      "metadata": {
        "colab": {
          "base_uri": "https://localhost:8080/",
          "height": 295
        },
        "id": "dsKliaKghJAq",
        "outputId": "0b6fc8bc-1fe2-4381-ad9c-26275a8e256e"
      },
      "source": [
        "plt.figure()\n",
        "plt.plot(test_kia_y_20, color='red', label='real KIA Co. stock price')\n",
        "plt.plot(pred_kia_y_20, color='blue', label='predicted KIA Co. stock price')\n",
        "plt.title('KIA Co. stock price prediction(window_size: 20)')\n",
        "plt.xlabel('time')\n",
        "plt.ylabel('stock price')\n",
        "plt.legend()\n",
        "plt.show()"
      ],
      "execution_count": 33,
      "outputs": [
        {
          "output_type": "display_data",
          "data": {
            "image/png": "[encoded data removed]",
            "text/plain": [
              "<Figure size 432x288 with 1 Axes>"
            ]
          },
          "metadata": {
            "needs_background": "light"
          }
        }
      ]
    },
    {
      "cell_type": "code",
      "metadata": {
        "colab": {
          "base_uri": "https://localhost:8080/"
        },
        "id": "85liLKx0hRnI",
        "outputId": "de0b3f41-7e49-4364-c007-bc044138d341"
      },
      "source": [
        "print('예측종가: ', int(df_kia.AdjClose[-1]*pred_kia_y_20[-1]/df_kia_y.AdjClose[-1]),'원')\n",
        "print('실제종가: 87,000원')\n",
        "print('예측종가 - 실제종가: ', int(df_kia.AdjClose[-1]*pred_kia_y_20[-1]/df_kia_y.AdjClose[-1])-87000)"
      ],
      "execution_count": 34,
      "outputs": [
        {
          "output_type": "stream",
          "name": "stdout",
          "text": [
            "예측종가:  75662 원\n",
            "실제종가: 87,000원\n",
            "예측종가 - 실제종가:  -11338\n"
          ]
        }
      ]
    },
    {
      "cell_type": "markdown",
      "metadata": {
        "id": "7fZ4fgNx_WZc"
      },
      "source": [
        "##### 적용기간: 60일 #####"
      ]
    },
    {
      "cell_type": "code",
      "metadata": {
        "id": "B0bykDf28qEm"
      },
      "source": [
        "# window_size = 60\n",
        "kia_data_X_60 = []\n",
        "kia_data_y_60 = []\n",
        "for i in range(len(kia_y) - 60):\n",
        "    _X_60 = kia_X[i : i + 60]\n",
        "    _y_60 = kia_y[i + 60]\n",
        "    kia_data_X_60.append(_X_60)\n",
        "    kia_data_y_60.append(_y_60)"
      ],
      "execution_count": 35,
      "outputs": []
    },
    {
      "cell_type": "code",
      "metadata": {
        "id": "kv-teELchx2i"
      },
      "source": [
        "# 데이터셋 분리: 훈련 70%, 테스트 30%로 분리\n",
        "\n",
        "# 훈련 데이터셋\n",
        "train_size_60 = int(len(kia_data_y_60) * 0.7)\n",
        "train_kia_X_60 = np.array(kia_data_X_60[0 : train_size_60])\n",
        "train_kia_y_60 = np.array(kia_data_y_60[0 : train_size_60])\n",
        "\n",
        "# 테스트 데이터셋\n",
        "test_size_60 = len(kia_data_y_60) - train_size_60\n",
        "test_kia_X_60 = np.array(kia_data_X_60[train_size_60 : len(kia_data_X_60)])\n",
        "test_kia_y_60 = np.array(kia_data_y_60[train_size_60 : len(kia_data_y_60)])"
      ],
      "execution_count": 36,
      "outputs": []
    },
    {
      "cell_type": "code",
      "metadata": {
        "colab": {
          "base_uri": "https://localhost:8080/"
        },
        "id": "Rq3ycMHbh_pa",
        "outputId": "81526a24-450a-4305-8ea8-b074589aa28c"
      },
      "source": [
        "# 모델 생성: LSTM\n",
        "model_60 = Sequential()\n",
        "model_60.add(LSTM(units=60, return_sequences=False, input_shape=(60, 5)))\n",
        "model_60.add(Dropout(0.1))\n",
        "model_60.add(Dense(units=60))\n",
        "model_60.add(Dropout(0.1))\n",
        "model_60.add(Dense(units=1))\n",
        "model_60.summary()"
      ],
      "execution_count": 37,
      "outputs": [
        {
          "output_type": "stream",
          "name": "stdout",
          "text": [
            "Model: \"sequential_6\"\n",
            "_________________________________________________________________\n",
            " Layer (type)                Output Shape              Param #   \n",
            "=================================================================\n",
            " lstm_7 (LSTM)               (None, 60)                15840     \n",
            "                                                                 \n",
            " dropout_11 (Dropout)        (None, 60)                0         \n",
            "                                                                 \n",
            " dense_10 (Dense)            (None, 60)                3660      \n",
            "                                                                 \n",
            " dropout_12 (Dropout)        (None, 60)                0         \n",
            "                                                                 \n",
            " dense_11 (Dense)            (None, 1)                 61        \n",
            "                                                                 \n",
            "=================================================================\n",
            "Total params: 19,561\n",
            "Trainable params: 19,561\n",
            "Non-trainable params: 0\n",
            "_________________________________________________________________\n"
          ]
        }
      ]
    },
    {
      "cell_type": "code",
      "metadata": {
        "colab": {
          "base_uri": "https://localhost:8080/"
        },
        "id": "vZOTtn9eiLwj",
        "outputId": "2baf9bdc-267c-495d-d3d2-0f0ee417fb8a"
      },
      "source": [
        "model_60.compile(optimizer='adam', loss='mean_squared_error', metrics=['mae'])\n",
        "model_60.fit(train_kia_X_60, train_kia_y_60, epochs=30, batch_size=32)\n",
        "pred_kia_y_60 = model_60.predict(test_kia_X_60)"
      ],
      "execution_count": 38,
      "outputs": [
        {
          "output_type": "stream",
          "name": "stdout",
          "text": [
            "Epoch 1/30\n",
            "119/119 [==============================] - 3s 6ms/step - loss: 0.0025 - mae: 0.0273\n",
            "Epoch 2/30\n",
            "119/119 [==============================] - 1s 6ms/step - loss: 7.2480e-04 - mae: 0.0164\n",
            "Epoch 3/30\n",
            "119/119 [==============================] - 1s 6ms/step - loss: 6.4598e-04 - mae: 0.0155\n",
            "Epoch 4/30\n",
            "119/119 [==============================] - 1s 6ms/step - loss: 5.2098e-04 - mae: 0.0139\n",
            "Epoch 5/30\n",
            "119/119 [==============================] - 1s 6ms/step - loss: 4.6625e-04 - mae: 0.0135\n",
            "Epoch 6/30\n",
            "119/119 [==============================] - 1s 6ms/step - loss: 4.2301e-04 - mae: 0.0127\n",
            "Epoch 7/30\n",
            "119/119 [==============================] - 1s 6ms/step - loss: 4.2487e-04 - mae: 0.0127\n",
            "Epoch 8/30\n",
            "119/119 [==============================] - 1s 6ms/step - loss: 4.4300e-04 - mae: 0.0132\n",
            "Epoch 9/30\n",
            "119/119 [==============================] - 1s 6ms/step - loss: 3.5708e-04 - mae: 0.0121\n",
            "Epoch 10/30\n",
            "119/119 [==============================] - 1s 6ms/step - loss: 3.5785e-04 - mae: 0.0121\n",
            "Epoch 11/30\n",
            "119/119 [==============================] - 1s 6ms/step - loss: 3.4265e-04 - mae: 0.0117\n",
            "Epoch 12/30\n",
            "119/119 [==============================] - 1s 6ms/step - loss: 3.2412e-04 - mae: 0.0119\n",
            "Epoch 13/30\n",
            "119/119 [==============================] - 1s 6ms/step - loss: 3.6386e-04 - mae: 0.0125\n",
            "Epoch 14/30\n",
            "119/119 [==============================] - 1s 6ms/step - loss: 3.6404e-04 - mae: 0.0127\n",
            "Epoch 15/30\n",
            "119/119 [==============================] - 1s 6ms/step - loss: 3.3874e-04 - mae: 0.0121\n",
            "Epoch 16/30\n",
            "119/119 [==============================] - 1s 6ms/step - loss: 3.0781e-04 - mae: 0.0116\n",
            "Epoch 17/30\n",
            "119/119 [==============================] - 1s 6ms/step - loss: 2.9896e-04 - mae: 0.0114\n",
            "Epoch 18/30\n",
            "119/119 [==============================] - 1s 6ms/step - loss: 3.0150e-04 - mae: 0.0116\n",
            "Epoch 19/30\n",
            "119/119 [==============================] - 1s 6ms/step - loss: 2.7666e-04 - mae: 0.0109\n",
            "Epoch 20/30\n",
            "119/119 [==============================] - 1s 6ms/step - loss: 3.0389e-04 - mae: 0.0120\n",
            "Epoch 21/30\n",
            "119/119 [==============================] - 1s 6ms/step - loss: 2.9530e-04 - mae: 0.0117\n",
            "Epoch 22/30\n",
            "119/119 [==============================] - 1s 6ms/step - loss: 2.8003e-04 - mae: 0.0112\n",
            "Epoch 23/30\n",
            "119/119 [==============================] - 1s 6ms/step - loss: 2.9848e-04 - mae: 0.0118\n",
            "Epoch 24/30\n",
            "119/119 [==============================] - 1s 6ms/step - loss: 2.7733e-04 - mae: 0.0113\n",
            "Epoch 25/30\n",
            "119/119 [==============================] - 1s 6ms/step - loss: 2.9203e-04 - mae: 0.0115\n",
            "Epoch 26/30\n",
            "119/119 [==============================] - 1s 6ms/step - loss: 2.8410e-04 - mae: 0.0115\n",
            "Epoch 27/30\n",
            "119/119 [==============================] - 1s 6ms/step - loss: 2.9992e-04 - mae: 0.0118\n",
            "Epoch 28/30\n",
            "119/119 [==============================] - 1s 6ms/step - loss: 2.6197e-04 - mae: 0.0110\n",
            "Epoch 29/30\n",
            "119/119 [==============================] - 1s 6ms/step - loss: 2.8731e-04 - mae: 0.0115\n",
            "Epoch 30/30\n",
            "119/119 [==============================] - 1s 6ms/step - loss: 2.7664e-04 - mae: 0.0113\n"
          ]
        }
      ]
    },
    {
      "cell_type": "code",
      "metadata": {
        "colab": {
          "base_uri": "https://localhost:8080/",
          "height": 295
        },
        "id": "0-6buK-diTXn",
        "outputId": "4368a869-0c8c-41cb-c4d4-7fa6c59a9ebf"
      },
      "source": [
        "# 시각화를 통한 테스트데이터와 예측값과의 차이 확인\n",
        "plt.figure()\n",
        "plt.plot(test_kia_y_60, color='red', label='real KIA Co. stock price')\n",
        "plt.plot(pred_kia_y_60, color='blue', label='predicted KIA Co. stock price')\n",
        "plt.title('KIA Co. stock price prediction(window_size: 60)')\n",
        "plt.xlabel('time')\n",
        "plt.ylabel('stock price')\n",
        "plt.legend()\n",
        "plt.show()"
      ],
      "execution_count": 39,
      "outputs": [
        {
          "output_type": "display_data",
          "data": {
            "image/png": "[encoded data removed]",
            "text/plain": [
              "<Figure size 432x288 with 1 Axes>"
            ]
          },
          "metadata": {
            "needs_background": "light"
          }
        }
      ]
    },
    {
      "cell_type": "code",
      "metadata": {
        "colab": {
          "base_uri": "https://localhost:8080/"
        },
        "id": "MMBi8kQNieHT",
        "outputId": "6a658d8e-558c-4739-94db-af81c58142d8"
      },
      "source": [
        "# 예측 종가\n",
        "print('예측종가: ', int(df_kia.AdjClose[-1]*pred_kia_y_60[-1]/df_kia_y.AdjClose[-1]),'원')\n",
        "print('실제종가: 87,000원')\n",
        "print('예측종가 - 실제종가: ', int(df_kia.AdjClose[-1]*pred_kia_y_60[-1]/df_kia_y.AdjClose[-1])-87000)"
      ],
      "execution_count": 40,
      "outputs": [
        {
          "output_type": "stream",
          "name": "stdout",
          "text": [
            "예측종가:  76102 원\n",
            "실제종가: 87,000원\n",
            "예측종가 - 실제종가:  -10898\n"
          ]
        }
      ]
    },
    {
      "cell_type": "markdown",
      "metadata": {
        "id": "LBlFpJ49_W-n"
      },
      "source": [
        "##### 적용기간: 120일 #####"
      ]
    },
    {
      "cell_type": "code",
      "metadata": {
        "id": "STTvMe6-8plW"
      },
      "source": [
        "# window_size = 120\n",
        "kia_data_X_120 = []\n",
        "kia_data_y_120 = []\n",
        "for i in range(len(kia_y) - 120):\n",
        "    _X_120 = kia_X[i : i + 120]\n",
        "    _y_120 = kia_y[i + 120]\n",
        "    kia_data_X_120.append(_X_120)\n",
        "    kia_data_y_120.append(_y_120)"
      ],
      "execution_count": 41,
      "outputs": []
    },
    {
      "cell_type": "code",
      "metadata": {
        "id": "rtii7eJlinZ3"
      },
      "source": [
        "# 데이터셋 분리: 훈련 70%, 테스트 30%로 분리\n",
        "\n",
        "# 훈련 데이터셋\n",
        "train_size_120 = int(len(kia_data_y_120) * 0.7)\n",
        "train_kia_X_120 = np.array(kia_data_X_120[0 : train_size_120])\n",
        "train_kia_y_120 = np.array(kia_data_y_120[0 : train_size_120])\n",
        "\n",
        "# 테스트 데이터셋\n",
        "test_size_120 = len(kia_data_y_120) - train_size_120\n",
        "test_kia_X_120 = np.array(kia_data_X_120[train_size_120 : len(kia_data_X_120)])\n",
        "test_kia_y_120 = np.array(kia_data_y_120[train_size_120 : len(kia_data_y_120)])"
      ],
      "execution_count": 42,
      "outputs": []
    },
    {
      "cell_type": "code",
      "metadata": {
        "colab": {
          "base_uri": "https://localhost:8080/"
        },
        "id": "ajsU8Y5ii1Mo",
        "outputId": "a11f4f82-4bac-4b0c-f69e-5d2f33a12d1d"
      },
      "source": [
        "# 모델 생성: LSTM\n",
        "model_120 = Sequential()\n",
        "model_120.add(LSTM(units=120, return_sequences=False, input_shape=(120, 5)))\n",
        "model_120.add(Dropout(0.1))\n",
        "model_120.add(Dense(units=120))\n",
        "model_120.add(Dropout(0.1))\n",
        "model_120.add(Dense(units=1))\n",
        "model_120.summary()"
      ],
      "execution_count": 44,
      "outputs": [
        {
          "output_type": "stream",
          "name": "stdout",
          "text": [
            "Model: \"sequential_8\"\n",
            "_________________________________________________________________\n",
            " Layer (type)                Output Shape              Param #   \n",
            "=================================================================\n",
            " lstm_9 (LSTM)               (None, 120)               60480     \n",
            "                                                                 \n",
            " dropout_15 (Dropout)        (None, 120)               0         \n",
            "                                                                 \n",
            " dense_14 (Dense)            (None, 120)               14520     \n",
            "                                                                 \n",
            " dropout_16 (Dropout)        (None, 120)               0         \n",
            "                                                                 \n",
            " dense_15 (Dense)            (None, 1)                 121       \n",
            "                                                                 \n",
            "=================================================================\n",
            "Total params: 75,121\n",
            "Trainable params: 75,121\n",
            "Non-trainable params: 0\n",
            "_________________________________________________________________\n"
          ]
        }
      ]
    },
    {
      "cell_type": "code",
      "metadata": {
        "colab": {
          "base_uri": "https://localhost:8080/"
        },
        "id": "MgyEtzrDjA_u",
        "outputId": "4fe84f27-f98a-46c6-d775-c0528855be87"
      },
      "source": [
        "model_120.compile(optimizer='adam', loss='mean_squared_error', metrics=['mae'])\n",
        "model_120.fit(train_kia_X_120, train_kia_y_120, epochs=30, batch_size=32)\n",
        "pred_kia_y_120 = model_120.predict(test_kia_X_120)"
      ],
      "execution_count": 45,
      "outputs": [
        {
          "output_type": "stream",
          "name": "stdout",
          "text": [
            "Epoch 1/30\n",
            "118/118 [==============================] - 3s 9ms/step - loss: 0.0024 - mae: 0.0253\n",
            "Epoch 2/30\n",
            "118/118 [==============================] - 1s 9ms/step - loss: 4.8765e-04 - mae: 0.0137\n",
            "Epoch 3/30\n",
            "118/118 [==============================] - 1s 9ms/step - loss: 4.1783e-04 - mae: 0.0125\n",
            "Epoch 4/30\n",
            "118/118 [==============================] - 1s 9ms/step - loss: 3.9508e-04 - mae: 0.0124\n",
            "Epoch 5/30\n",
            "118/118 [==============================] - 1s 9ms/step - loss: 3.4092e-04 - mae: 0.0117\n",
            "Epoch 6/30\n",
            "118/118 [==============================] - 1s 9ms/step - loss: 2.8905e-04 - mae: 0.0108\n",
            "Epoch 7/30\n",
            "118/118 [==============================] - 1s 9ms/step - loss: 2.8800e-04 - mae: 0.0109\n",
            "Epoch 8/30\n",
            "118/118 [==============================] - 1s 9ms/step - loss: 3.0650e-04 - mae: 0.0112\n",
            "Epoch 9/30\n",
            "118/118 [==============================] - 1s 9ms/step - loss: 2.6927e-04 - mae: 0.0107\n",
            "Epoch 10/30\n",
            "118/118 [==============================] - 1s 9ms/step - loss: 2.3870e-04 - mae: 0.0099\n",
            "Epoch 11/30\n",
            "118/118 [==============================] - 1s 9ms/step - loss: 2.4604e-04 - mae: 0.0101\n",
            "Epoch 12/30\n",
            "118/118 [==============================] - 1s 9ms/step - loss: 2.7375e-04 - mae: 0.0108\n",
            "Epoch 13/30\n",
            "118/118 [==============================] - 1s 9ms/step - loss: 2.0635e-04 - mae: 0.0092\n",
            "Epoch 14/30\n",
            "118/118 [==============================] - 1s 9ms/step - loss: 2.1916e-04 - mae: 0.0095\n",
            "Epoch 15/30\n",
            "118/118 [==============================] - 1s 9ms/step - loss: 2.1239e-04 - mae: 0.0097\n",
            "Epoch 16/30\n",
            "118/118 [==============================] - 1s 9ms/step - loss: 2.3551e-04 - mae: 0.0099\n",
            "Epoch 17/30\n",
            "118/118 [==============================] - 1s 9ms/step - loss: 1.9888e-04 - mae: 0.0094\n",
            "Epoch 18/30\n",
            "118/118 [==============================] - 1s 9ms/step - loss: 2.4304e-04 - mae: 0.0105\n",
            "Epoch 19/30\n",
            "118/118 [==============================] - 1s 9ms/step - loss: 2.0494e-04 - mae: 0.0095\n",
            "Epoch 20/30\n",
            "118/118 [==============================] - 1s 9ms/step - loss: 2.3693e-04 - mae: 0.0105\n",
            "Epoch 21/30\n",
            "118/118 [==============================] - 1s 9ms/step - loss: 2.0265e-04 - mae: 0.0098\n",
            "Epoch 22/30\n",
            "118/118 [==============================] - 1s 9ms/step - loss: 2.2721e-04 - mae: 0.0102\n",
            "Epoch 23/30\n",
            "118/118 [==============================] - 1s 9ms/step - loss: 2.1323e-04 - mae: 0.0103\n",
            "Epoch 24/30\n",
            "118/118 [==============================] - 1s 9ms/step - loss: 2.1548e-04 - mae: 0.0101\n",
            "Epoch 25/30\n",
            "118/118 [==============================] - 1s 9ms/step - loss: 2.1709e-04 - mae: 0.0101\n",
            "Epoch 26/30\n",
            "118/118 [==============================] - 1s 9ms/step - loss: 2.0519e-04 - mae: 0.0098\n",
            "Epoch 27/30\n",
            "118/118 [==============================] - 1s 9ms/step - loss: 1.7509e-04 - mae: 0.0091\n",
            "Epoch 28/30\n",
            "118/118 [==============================] - 1s 9ms/step - loss: 1.8725e-04 - mae: 0.0095\n",
            "Epoch 29/30\n",
            "118/118 [==============================] - 1s 9ms/step - loss: 1.7757e-04 - mae: 0.0092\n",
            "Epoch 30/30\n",
            "118/118 [==============================] - 1s 9ms/step - loss: 2.0778e-04 - mae: 0.0096\n"
          ]
        }
      ]
    },
    {
      "cell_type": "code",
      "metadata": {
        "colab": {
          "base_uri": "https://localhost:8080/",
          "height": 295
        },
        "id": "QpT-UPI4jGr-",
        "outputId": "dbe31c06-9fdf-43aa-d110-b21113d143d7"
      },
      "source": [
        "# 시각화를 통한 테스트데이터와 예측값과의 차이 확인\n",
        "plt.figure()\n",
        "plt.plot(test_kia_y_120, color='red', label='real KIA Co. stock price')\n",
        "plt.plot(pred_kia_y_120, color='blue', label='predicted KIA Co. stock price')\n",
        "plt.title('KIA Co. stock price prediction(window_size: 120)')\n",
        "plt.xlabel('time')\n",
        "plt.ylabel('stock price')\n",
        "plt.legend()\n",
        "plt.show()"
      ],
      "execution_count": 46,
      "outputs": [
        {
          "output_type": "display_data",
          "data": {
            "image/png": "[encoded data removed]",
            "text/plain": [
              "<Figure size 432x288 with 1 Axes>"
            ]
          },
          "metadata": {
            "needs_background": "light"
          }
        }
      ]
    },
    {
      "cell_type": "code",
      "metadata": {
        "colab": {
          "base_uri": "https://localhost:8080/"
        },
        "id": "TaJaGFgljLI3",
        "outputId": "75398bd1-e10f-488d-f1f3-6160066ed6cd"
      },
      "source": [
        "# 예측 종가\n",
        "print('예측종가: ', int(df_kia.AdjClose[-1]*pred_kia_y_120[-1]/df_kia_y.AdjClose[-1]),'원')\n",
        "print('실제종가: 87,000원')\n",
        "print('예측종가 - 실제종가: ', int(df_kia.AdjClose[-1]*pred_kia_y_120[-1]/df_kia_y.AdjClose[-1])-87000)"
      ],
      "execution_count": 47,
      "outputs": [
        {
          "output_type": "stream",
          "name": "stdout",
          "text": [
            "예측종가:  77936 원\n",
            "실제종가: 87,000원\n",
            "예측종가 - 실제종가:  -9064\n"
          ]
        }
      ]
    },
    {
      "cell_type": "markdown",
      "metadata": {
        "id": "DLaa7ICLnawr"
      },
      "source": [
        "## 모델 선정"
      ]
    },
    {
      "cell_type": "markdown",
      "metadata": {
        "id": "aG7s3VaFoeEk"
      },
      "source": [
        "테스트 결과에 따라 적용기간 120일로 설정한 모델의 하이퍼파라미터 튜닝을 통해 예측성능을 향상하고자 한다.\n"
      ]
    },
    {
      "cell_type": "code",
      "metadata": {
        "id": "_yZKNlsHryic"
      },
      "source": [
        "# window_size = 10\n",
        "kia_data_X = []\n",
        "kia_data_y = []\n",
        "for i in range(len(kia_y) - 10):\n",
        "    _X = kia_X[i : i + 10]\n",
        "    _y = kia_y[i + 10]\n",
        "    kia_data_X.append(_X)\n",
        "    kia_data_y.append(_y)"
      ],
      "execution_count": 151,
      "outputs": []
    },
    {
      "cell_type": "code",
      "metadata": {
        "id": "KUxnWOEU3WA4"
      },
      "source": [
        "# 데이터셋 분리: 훈련 70%, 테스트 30%로 분리\n",
        "\n",
        "# 훈련 데이터셋\n",
        "train_size = int(len(kia_data_y) * 0.7)\n",
        "train_kia_X = np.array(kia_data_X[0 : train_size])\n",
        "train_kia_y = np.array(kia_data_y[0 : train_size])\n",
        "\n",
        "# 테스트 데이터셋\n",
        "test_size = len(kia_data_y) - train_size\n",
        "test_kia_X = np.array(kia_data_X[train_size : len(kia_data_X)])\n",
        "test_kia_y = np.array(kia_data_y[train_size : len(kia_data_y)])"
      ],
      "execution_count": 152,
      "outputs": []
    },
    {
      "cell_type": "code",
      "metadata": {
        "colab": {
          "base_uri": "https://localhost:8080/"
        },
        "id": "kgjsPUAmbkcH",
        "outputId": "2122181a-bd4c-4b7e-b3a5-5e45addded49"
      },
      "source": [
        "train_kia_X.shape"
      ],
      "execution_count": 153,
      "outputs": [
        {
          "output_type": "execute_result",
          "data": {
            "text/plain": [
              "(3831, 10, 5)"
            ]
          },
          "metadata": {},
          "execution_count": 153
        }
      ]
    },
    {
      "cell_type": "code",
      "metadata": {
        "colab": {
          "base_uri": "https://localhost:8080/"
        },
        "id": "X6Bm8hOt3oid",
        "outputId": "6d5ed44c-8c4c-4b69-bae1-0b3cc4079a00"
      },
      "source": [
        "# 모델 생성: LSTM\n",
        "model = Sequential()\n",
        "model.add(LSTM(units=10, return_sequences=False, activation='relu', input_shape=(10, 5)))\n",
        "model.add(Dropout(0.1))\n",
        "#model.add(Dense(units=256, activation='relu'))\n",
        "#model.add(Dropout(0.1))\n",
        "#model.add(Dense(units=256, activation='relu'))\n",
        "#model.add(Dropout(0.1))\n",
        "model.add(Dense(units=1))\n",
        "model.summary()"
      ],
      "execution_count": 260,
      "outputs": [
        {
          "output_type": "stream",
          "name": "stdout",
          "text": [
            "WARNING:tensorflow:Layer lstm_687 will not use cuDNN kernels since it doesn't meet the criteria. It will use a generic GPU kernel as fallback when running on GPU.\n",
            "Model: \"sequential_352\"\n",
            "_________________________________________________________________\n",
            " Layer (type)                Output Shape              Param #   \n",
            "=================================================================\n",
            " lstm_687 (LSTM)             (None, 10)                640       \n",
            "                                                                 \n",
            " dropout_1359 (Dropout)      (None, 10)                0         \n",
            "                                                                 \n",
            " dense_1029 (Dense)          (None, 1)                 11        \n",
            "                                                                 \n",
            "=================================================================\n",
            "Total params: 651\n",
            "Trainable params: 651\n",
            "Non-trainable params: 0\n",
            "_________________________________________________________________\n"
          ]
        }
      ]
    },
    {
      "cell_type": "code",
      "metadata": {
        "id": "096ySUXr3vsY",
        "colab": {
          "base_uri": "https://localhost:8080/"
        },
        "outputId": "74e9061a-e25e-42e5-dffb-8bc4b1dc560c"
      },
      "source": [
        "model.compile(optimizer='adam', loss='mean_squared_error', metrics=['mae'])\n",
        "model.fit(train_kia_X, train_kia_y, epochs=200, batch_size=32)"
      ],
      "execution_count": 261,
      "outputs": [
        {
          "output_type": "stream",
          "name": "stdout",
          "text": [
            "Epoch 1/200\n",
            "120/120 [==============================] - 4s 23ms/step - loss: 0.0246 - mae: 0.0959\n",
            "Epoch 2/200\n",
            "120/120 [==============================] - 3s 22ms/step - loss: 0.0026 - mae: 0.0286\n",
            "Epoch 3/200\n",
            "120/120 [==============================] - 3s 23ms/step - loss: 0.0024 - mae: 0.0270\n",
            "Epoch 4/200\n",
            "120/120 [==============================] - 3s 22ms/step - loss: 0.0020 - mae: 0.0257\n",
            "Epoch 5/200\n",
            "120/120 [==============================] - 3s 23ms/step - loss: 0.0014 - mae: 0.0226\n",
            "Epoch 6/200\n",
            "120/120 [==============================] - 3s 23ms/step - loss: 0.0016 - mae: 0.0244\n",
            "Epoch 7/200\n",
            "120/120 [==============================] - 3s 23ms/step - loss: 0.0014 - mae: 0.0233\n",
            "Epoch 8/200\n",
            "120/120 [==============================] - 3s 22ms/step - loss: 0.0014 - mae: 0.0232\n",
            "Epoch 9/200\n",
            "120/120 [==============================] - 3s 23ms/step - loss: 0.0014 - mae: 0.0229\n",
            "Epoch 10/200\n",
            "120/120 [==============================] - 3s 23ms/step - loss: 0.0014 - mae: 0.0230\n",
            "Epoch 11/200\n",
            "120/120 [==============================] - 3s 23ms/step - loss: 0.0012 - mae: 0.0222\n",
            "Epoch 12/200\n",
            "120/120 [==============================] - 3s 23ms/step - loss: 0.0011 - mae: 0.0215\n",
            "Epoch 13/200\n",
            "120/120 [==============================] - 3s 22ms/step - loss: 0.0013 - mae: 0.0227\n",
            "Epoch 14/200\n",
            "120/120 [==============================] - 3s 23ms/step - loss: 0.0012 - mae: 0.0222\n",
            "Epoch 15/200\n",
            "120/120 [==============================] - 3s 23ms/step - loss: 0.0012 - mae: 0.0226\n",
            "Epoch 16/200\n",
            "120/120 [==============================] - 3s 22ms/step - loss: 0.0013 - mae: 0.0229\n",
            "Epoch 17/200\n",
            "120/120 [==============================] - 3s 23ms/step - loss: 0.0012 - mae: 0.0227\n",
            "Epoch 18/200\n",
            "120/120 [==============================] - 3s 23ms/step - loss: 0.0012 - mae: 0.0221\n",
            "Epoch 19/200\n",
            "120/120 [==============================] - 3s 22ms/step - loss: 0.0012 - mae: 0.0228\n",
            "Epoch 20/200\n",
            "120/120 [==============================] - 3s 22ms/step - loss: 0.0012 - mae: 0.0225\n",
            "Epoch 21/200\n",
            "120/120 [==============================] - 3s 22ms/step - loss: 0.0011 - mae: 0.0223\n",
            "Epoch 22/200\n",
            "120/120 [==============================] - 3s 22ms/step - loss: 0.0012 - mae: 0.0225\n",
            "Epoch 23/200\n",
            "120/120 [==============================] - 3s 22ms/step - loss: 0.0011 - mae: 0.0227\n",
            "Epoch 24/200\n",
            "120/120 [==============================] - 3s 22ms/step - loss: 0.0012 - mae: 0.0226\n",
            "Epoch 25/200\n",
            "120/120 [==============================] - 3s 22ms/step - loss: 0.0012 - mae: 0.0230\n",
            "Epoch 26/200\n",
            "120/120 [==============================] - 3s 23ms/step - loss: 0.0011 - mae: 0.0221\n",
            "Epoch 27/200\n",
            "120/120 [==============================] - 3s 23ms/step - loss: 0.0012 - mae: 0.0226\n",
            "Epoch 28/200\n",
            "120/120 [==============================] - 3s 23ms/step - loss: 0.0011 - mae: 0.0221\n",
            "Epoch 29/200\n",
            "120/120 [==============================] - 3s 23ms/step - loss: 0.0012 - mae: 0.0226\n",
            "Epoch 30/200\n",
            "120/120 [==============================] - 3s 23ms/step - loss: 0.0011 - mae: 0.0228\n",
            "Epoch 31/200\n",
            "120/120 [==============================] - 3s 22ms/step - loss: 0.0012 - mae: 0.0225\n",
            "Epoch 32/200\n",
            "120/120 [==============================] - 3s 23ms/step - loss: 0.0011 - mae: 0.0225\n",
            "Epoch 33/200\n",
            "120/120 [==============================] - 3s 22ms/step - loss: 0.0012 - mae: 0.0230\n",
            "Epoch 34/200\n",
            "120/120 [==============================] - 3s 23ms/step - loss: 0.0011 - mae: 0.0223\n",
            "Epoch 35/200\n",
            "120/120 [==============================] - 3s 22ms/step - loss: 0.0012 - mae: 0.0229\n",
            "Epoch 36/200\n",
            "120/120 [==============================] - 3s 23ms/step - loss: 0.0012 - mae: 0.0226\n",
            "Epoch 37/200\n",
            "120/120 [==============================] - 3s 22ms/step - loss: 0.0011 - mae: 0.0225\n",
            "Epoch 38/200\n",
            "120/120 [==============================] - 3s 23ms/step - loss: 0.0011 - mae: 0.0225\n",
            "Epoch 39/200\n",
            "120/120 [==============================] - 3s 22ms/step - loss: 0.0012 - mae: 0.0234\n",
            "Epoch 40/200\n",
            "120/120 [==============================] - 3s 22ms/step - loss: 0.0010 - mae: 0.0216\n",
            "Epoch 41/200\n",
            "120/120 [==============================] - 3s 22ms/step - loss: 0.0012 - mae: 0.0226\n",
            "Epoch 42/200\n",
            "120/120 [==============================] - 3s 22ms/step - loss: 0.0012 - mae: 0.0228\n",
            "Epoch 43/200\n",
            "120/120 [==============================] - 3s 22ms/step - loss: 0.0010 - mae: 0.0218\n",
            "Epoch 44/200\n",
            "120/120 [==============================] - 3s 22ms/step - loss: 0.0012 - mae: 0.0227\n",
            "Epoch 45/200\n",
            "120/120 [==============================] - 3s 22ms/step - loss: 0.0012 - mae: 0.0225\n",
            "Epoch 46/200\n",
            "120/120 [==============================] - 3s 22ms/step - loss: 0.0011 - mae: 0.0224\n",
            "Epoch 47/200\n",
            "120/120 [==============================] - 3s 22ms/step - loss: 0.0011 - mae: 0.0219\n",
            "Epoch 48/200\n",
            "120/120 [==============================] - 3s 22ms/step - loss: 0.0012 - mae: 0.0232\n",
            "Epoch 49/200\n",
            "120/120 [==============================] - 3s 22ms/step - loss: 0.0011 - mae: 0.0224\n",
            "Epoch 50/200\n",
            "120/120 [==============================] - 3s 22ms/step - loss: 0.0011 - mae: 0.0218\n",
            "Epoch 51/200\n",
            "120/120 [==============================] - 3s 22ms/step - loss: 0.0011 - mae: 0.0221\n",
            "Epoch 52/200\n",
            "120/120 [==============================] - 3s 22ms/step - loss: 0.0011 - mae: 0.0224\n",
            "Epoch 53/200\n",
            "120/120 [==============================] - 3s 22ms/step - loss: 0.0011 - mae: 0.0220\n",
            "Epoch 54/200\n",
            "120/120 [==============================] - 3s 22ms/step - loss: 0.0011 - mae: 0.0219\n",
            "Epoch 55/200\n",
            "120/120 [==============================] - 3s 22ms/step - loss: 0.0011 - mae: 0.0216\n",
            "Epoch 56/200\n",
            "120/120 [==============================] - 3s 22ms/step - loss: 0.0012 - mae: 0.0227\n",
            "Epoch 57/200\n",
            "120/120 [==============================] - 3s 22ms/step - loss: 0.0011 - mae: 0.0219\n",
            "Epoch 58/200\n",
            "120/120 [==============================] - 3s 22ms/step - loss: 0.0011 - mae: 0.0218\n",
            "Epoch 59/200\n",
            "120/120 [==============================] - 3s 22ms/step - loss: 0.0011 - mae: 0.0221\n",
            "Epoch 60/200\n",
            "120/120 [==============================] - 3s 22ms/step - loss: 0.0012 - mae: 0.0223\n",
            "Epoch 61/200\n",
            "120/120 [==============================] - 3s 22ms/step - loss: 0.0011 - mae: 0.0218\n",
            "Epoch 62/200\n",
            "120/120 [==============================] - 3s 22ms/step - loss: 0.0012 - mae: 0.0232\n",
            "Epoch 63/200\n",
            "120/120 [==============================] - 3s 22ms/step - loss: 0.0011 - mae: 0.0220\n",
            "Epoch 64/200\n",
            "120/120 [==============================] - 3s 22ms/step - loss: 0.0011 - mae: 0.0214\n",
            "Epoch 65/200\n",
            "120/120 [==============================] - 3s 22ms/step - loss: 0.0012 - mae: 0.0225\n",
            "Epoch 66/200\n",
            "120/120 [==============================] - 3s 22ms/step - loss: 0.0011 - mae: 0.0220\n",
            "Epoch 67/200\n",
            "120/120 [==============================] - 3s 22ms/step - loss: 0.0011 - mae: 0.0222\n",
            "Epoch 68/200\n",
            "120/120 [==============================] - 3s 22ms/step - loss: 0.0012 - mae: 0.0226\n",
            "Epoch 69/200\n",
            "120/120 [==============================] - 3s 22ms/step - loss: 0.0011 - mae: 0.0216\n",
            "Epoch 70/200\n",
            "120/120 [==============================] - 3s 22ms/step - loss: 0.0012 - mae: 0.0224\n",
            "Epoch 71/200\n",
            "120/120 [==============================] - 3s 22ms/step - loss: 0.0011 - mae: 0.0226\n",
            "Epoch 72/200\n",
            "120/120 [==============================] - 3s 22ms/step - loss: 0.0011 - mae: 0.0222\n",
            "Epoch 73/200\n",
            "120/120 [==============================] - 3s 22ms/step - loss: 0.0011 - mae: 0.0214\n",
            "Epoch 74/200\n",
            "120/120 [==============================] - 3s 22ms/step - loss: 0.0011 - mae: 0.0224\n",
            "Epoch 75/200\n",
            "120/120 [==============================] - 3s 22ms/step - loss: 0.0011 - mae: 0.0221\n",
            "Epoch 76/200\n",
            "120/120 [==============================] - 3s 22ms/step - loss: 0.0011 - mae: 0.0222\n",
            "Epoch 77/200\n",
            "120/120 [==============================] - 3s 22ms/step - loss: 0.0011 - mae: 0.0216\n",
            "Epoch 78/200\n",
            "120/120 [==============================] - 3s 22ms/step - loss: 0.0012 - mae: 0.0230\n",
            "Epoch 79/200\n",
            "120/120 [==============================] - 3s 22ms/step - loss: 0.0012 - mae: 0.0225\n",
            "Epoch 80/200\n",
            "120/120 [==============================] - 3s 22ms/step - loss: 0.0011 - mae: 0.0224\n",
            "Epoch 81/200\n",
            "120/120 [==============================] - 3s 22ms/step - loss: 0.0011 - mae: 0.0217\n",
            "Epoch 82/200\n",
            "120/120 [==============================] - 3s 22ms/step - loss: 0.0011 - mae: 0.0219\n",
            "Epoch 83/200\n",
            "120/120 [==============================] - 3s 22ms/step - loss: 0.0011 - mae: 0.0219\n",
            "Epoch 84/200\n",
            "120/120 [==============================] - 3s 22ms/step - loss: 0.0012 - mae: 0.0230\n",
            "Epoch 85/200\n",
            "120/120 [==============================] - 3s 22ms/step - loss: 0.0010 - mae: 0.0214\n",
            "Epoch 86/200\n",
            "120/120 [==============================] - 3s 22ms/step - loss: 0.0011 - mae: 0.0226\n",
            "Epoch 87/200\n",
            "120/120 [==============================] - 3s 22ms/step - loss: 0.0010 - mae: 0.0212\n",
            "Epoch 88/200\n",
            "120/120 [==============================] - 3s 22ms/step - loss: 0.0012 - mae: 0.0219\n",
            "Epoch 89/200\n",
            "120/120 [==============================] - 3s 22ms/step - loss: 0.0011 - mae: 0.0222\n",
            "Epoch 90/200\n",
            "120/120 [==============================] - 3s 22ms/step - loss: 0.0011 - mae: 0.0220\n",
            "Epoch 91/200\n",
            "120/120 [==============================] - 3s 22ms/step - loss: 0.0011 - mae: 0.0219\n",
            "Epoch 92/200\n",
            "120/120 [==============================] - 3s 22ms/step - loss: 0.0011 - mae: 0.0217\n",
            "Epoch 93/200\n",
            "120/120 [==============================] - 3s 22ms/step - loss: 0.0011 - mae: 0.0224\n",
            "Epoch 94/200\n",
            "120/120 [==============================] - 3s 22ms/step - loss: 0.0011 - mae: 0.0223\n",
            "Epoch 95/200\n",
            "120/120 [==============================] - 3s 22ms/step - loss: 0.0010 - mae: 0.0222\n",
            "Epoch 96/200\n",
            "120/120 [==============================] - 3s 22ms/step - loss: 0.0011 - mae: 0.0222\n",
            "Epoch 97/200\n",
            "120/120 [==============================] - 3s 22ms/step - loss: 0.0011 - mae: 0.0227\n",
            "Epoch 98/200\n",
            "120/120 [==============================] - 3s 22ms/step - loss: 0.0011 - mae: 0.0222\n",
            "Epoch 99/200\n",
            "120/120 [==============================] - 3s 22ms/step - loss: 0.0010 - mae: 0.0216\n",
            "Epoch 100/200\n",
            "120/120 [==============================] - 3s 22ms/step - loss: 0.0011 - mae: 0.0221\n",
            "Epoch 101/200\n",
            "120/120 [==============================] - 3s 22ms/step - loss: 0.0011 - mae: 0.0218\n",
            "Epoch 102/200\n",
            "120/120 [==============================] - 3s 22ms/step - loss: 0.0011 - mae: 0.0220\n",
            "Epoch 103/200\n",
            "120/120 [==============================] - 3s 22ms/step - loss: 0.0010 - mae: 0.0215\n",
            "Epoch 104/200\n",
            "120/120 [==============================] - 3s 22ms/step - loss: 0.0011 - mae: 0.0224\n",
            "Epoch 105/200\n",
            "120/120 [==============================] - 3s 22ms/step - loss: 0.0011 - mae: 0.0225\n",
            "Epoch 106/200\n",
            "120/120 [==============================] - 3s 22ms/step - loss: 0.0012 - mae: 0.0223\n",
            "Epoch 107/200\n",
            "120/120 [==============================] - 3s 22ms/step - loss: 0.0011 - mae: 0.0222\n",
            "Epoch 108/200\n",
            "120/120 [==============================] - 3s 22ms/step - loss: 0.0010 - mae: 0.0215\n",
            "Epoch 109/200\n",
            "120/120 [==============================] - 3s 22ms/step - loss: 0.0011 - mae: 0.0219\n",
            "Epoch 110/200\n",
            "120/120 [==============================] - 3s 22ms/step - loss: 0.0011 - mae: 0.0223\n",
            "Epoch 111/200\n",
            "120/120 [==============================] - 3s 22ms/step - loss: 0.0011 - mae: 0.0219\n",
            "Epoch 112/200\n",
            "120/120 [==============================] - 3s 22ms/step - loss: 0.0010 - mae: 0.0212\n",
            "Epoch 113/200\n",
            "120/120 [==============================] - 3s 22ms/step - loss: 0.0012 - mae: 0.0226\n",
            "Epoch 114/200\n",
            "120/120 [==============================] - 3s 22ms/step - loss: 0.0011 - mae: 0.0220\n",
            "Epoch 115/200\n",
            "120/120 [==============================] - 3s 22ms/step - loss: 0.0010 - mae: 0.0215\n",
            "Epoch 116/200\n",
            "120/120 [==============================] - 3s 22ms/step - loss: 0.0011 - mae: 0.0218\n",
            "Epoch 117/200\n",
            "120/120 [==============================] - 3s 22ms/step - loss: 0.0011 - mae: 0.0215\n",
            "Epoch 118/200\n",
            "120/120 [==============================] - 3s 22ms/step - loss: 0.0011 - mae: 0.0217\n",
            "Epoch 119/200\n",
            "120/120 [==============================] - 3s 22ms/step - loss: 0.0011 - mae: 0.0214\n",
            "Epoch 120/200\n",
            "120/120 [==============================] - 3s 22ms/step - loss: 0.0011 - mae: 0.0217\n",
            "Epoch 121/200\n",
            "120/120 [==============================] - 3s 22ms/step - loss: 0.0011 - mae: 0.0222\n",
            "Epoch 122/200\n",
            "120/120 [==============================] - 3s 22ms/step - loss: 0.0011 - mae: 0.0221\n",
            "Epoch 123/200\n",
            "120/120 [==============================] - 3s 22ms/step - loss: 0.0011 - mae: 0.0214\n",
            "Epoch 124/200\n",
            "120/120 [==============================] - 3s 22ms/step - loss: 0.0011 - mae: 0.0218\n",
            "Epoch 125/200\n",
            "120/120 [==============================] - 3s 23ms/step - loss: 0.0010 - mae: 0.0213\n",
            "Epoch 126/200\n",
            "120/120 [==============================] - 3s 22ms/step - loss: 0.0011 - mae: 0.0221\n",
            "Epoch 127/200\n",
            "120/120 [==============================] - 3s 22ms/step - loss: 0.0010 - mae: 0.0210\n",
            "Epoch 128/200\n",
            "120/120 [==============================] - 3s 22ms/step - loss: 0.0011 - mae: 0.0219\n",
            "Epoch 129/200\n",
            "120/120 [==============================] - 3s 22ms/step - loss: 0.0011 - mae: 0.0215\n",
            "Epoch 130/200\n",
            "120/120 [==============================] - 3s 22ms/step - loss: 0.0011 - mae: 0.0225\n",
            "Epoch 131/200\n",
            "120/120 [==============================] - 3s 22ms/step - loss: 0.0011 - mae: 0.0215\n",
            "Epoch 132/200\n",
            "120/120 [==============================] - 3s 22ms/step - loss: 0.0011 - mae: 0.0218\n",
            "Epoch 133/200\n",
            "120/120 [==============================] - 3s 22ms/step - loss: 0.0011 - mae: 0.0216\n",
            "Epoch 134/200\n",
            "120/120 [==============================] - 3s 22ms/step - loss: 0.0011 - mae: 0.0218\n",
            "Epoch 135/200\n",
            "120/120 [==============================] - 3s 22ms/step - loss: 0.0011 - mae: 0.0225\n",
            "Epoch 136/200\n",
            "120/120 [==============================] - 3s 22ms/step - loss: 0.0011 - mae: 0.0223\n",
            "Epoch 137/200\n",
            "120/120 [==============================] - 3s 22ms/step - loss: 0.0011 - mae: 0.0222\n",
            "Epoch 138/200\n",
            "120/120 [==============================] - 3s 22ms/step - loss: 0.0011 - mae: 0.0215\n",
            "Epoch 139/200\n",
            "120/120 [==============================] - 3s 22ms/step - loss: 0.0012 - mae: 0.0223\n",
            "Epoch 140/200\n",
            "120/120 [==============================] - 3s 22ms/step - loss: 0.0012 - mae: 0.0228\n",
            "Epoch 141/200\n",
            "120/120 [==============================] - 3s 22ms/step - loss: 0.0011 - mae: 0.0223\n",
            "Epoch 142/200\n",
            "120/120 [==============================] - 3s 22ms/step - loss: 0.0010 - mae: 0.0218\n",
            "Epoch 143/200\n",
            "120/120 [==============================] - 3s 22ms/step - loss: 0.0011 - mae: 0.0220\n",
            "Epoch 144/200\n",
            "120/120 [==============================] - 3s 22ms/step - loss: 0.0011 - mae: 0.0219\n",
            "Epoch 145/200\n",
            "120/120 [==============================] - 3s 22ms/step - loss: 0.0011 - mae: 0.0216\n",
            "Epoch 146/200\n",
            "120/120 [==============================] - 3s 22ms/step - loss: 0.0011 - mae: 0.0221\n",
            "Epoch 147/200\n",
            "120/120 [==============================] - 3s 22ms/step - loss: 0.0011 - mae: 0.0215\n",
            "Epoch 148/200\n",
            "120/120 [==============================] - 3s 22ms/step - loss: 0.0011 - mae: 0.0222\n",
            "Epoch 149/200\n",
            "120/120 [==============================] - 3s 22ms/step - loss: 0.0011 - mae: 0.0218\n",
            "Epoch 150/200\n",
            "120/120 [==============================] - 3s 22ms/step - loss: 0.0011 - mae: 0.0224\n",
            "Epoch 151/200\n",
            "120/120 [==============================] - 3s 22ms/step - loss: 0.0010 - mae: 0.0215\n",
            "Epoch 152/200\n",
            "120/120 [==============================] - 3s 22ms/step - loss: 0.0011 - mae: 0.0222\n",
            "Epoch 153/200\n",
            "120/120 [==============================] - 3s 23ms/step - loss: 0.0012 - mae: 0.0223\n",
            "Epoch 154/200\n",
            "120/120 [==============================] - 3s 23ms/step - loss: 0.0010 - mae: 0.0208\n",
            "Epoch 155/200\n",
            "120/120 [==============================] - 3s 23ms/step - loss: 0.0011 - mae: 0.0213\n",
            "Epoch 156/200\n",
            "120/120 [==============================] - 3s 22ms/step - loss: 0.0011 - mae: 0.0217\n",
            "Epoch 157/200\n",
            "120/120 [==============================] - 3s 22ms/step - loss: 0.0011 - mae: 0.0214\n",
            "Epoch 158/200\n",
            "120/120 [==============================] - 3s 22ms/step - loss: 0.0010 - mae: 0.0213\n",
            "Epoch 159/200\n",
            "120/120 [==============================] - 3s 22ms/step - loss: 0.0011 - mae: 0.0217\n",
            "Epoch 160/200\n",
            "120/120 [==============================] - 3s 22ms/step - loss: 0.0011 - mae: 0.0219\n",
            "Epoch 161/200\n",
            "120/120 [==============================] - 3s 22ms/step - loss: 0.0011 - mae: 0.0218\n",
            "Epoch 162/200\n",
            "120/120 [==============================] - 3s 22ms/step - loss: 0.0010 - mae: 0.0215\n",
            "Epoch 163/200\n",
            "120/120 [==============================] - 3s 22ms/step - loss: 0.0011 - mae: 0.0214\n",
            "Epoch 164/200\n",
            "120/120 [==============================] - 3s 22ms/step - loss: 0.0011 - mae: 0.0214\n",
            "Epoch 165/200\n",
            "120/120 [==============================] - 3s 22ms/step - loss: 0.0011 - mae: 0.0220\n",
            "Epoch 166/200\n",
            "120/120 [==============================] - 3s 22ms/step - loss: 0.0011 - mae: 0.0219\n",
            "Epoch 167/200\n",
            "120/120 [==============================] - 3s 22ms/step - loss: 0.0012 - mae: 0.0227\n",
            "Epoch 168/200\n",
            "120/120 [==============================] - 3s 22ms/step - loss: 0.0010 - mae: 0.0212\n",
            "Epoch 169/200\n",
            "120/120 [==============================] - 3s 22ms/step - loss: 0.0011 - mae: 0.0219\n",
            "Epoch 170/200\n",
            "120/120 [==============================] - 3s 22ms/step - loss: 0.0011 - mae: 0.0216\n",
            "Epoch 171/200\n",
            "120/120 [==============================] - 3s 22ms/step - loss: 0.0011 - mae: 0.0219\n",
            "Epoch 172/200\n",
            "120/120 [==============================] - 3s 22ms/step - loss: 0.0012 - mae: 0.0226\n",
            "Epoch 173/200\n",
            "120/120 [==============================] - 3s 22ms/step - loss: 0.0010 - mae: 0.0210\n",
            "Epoch 174/200\n",
            "120/120 [==============================] - 3s 22ms/step - loss: 0.0012 - mae: 0.0222\n",
            "Epoch 175/200\n",
            "120/120 [==============================] - 3s 22ms/step - loss: 0.0011 - mae: 0.0219\n",
            "Epoch 176/200\n",
            "120/120 [==============================] - 3s 22ms/step - loss: 0.0011 - mae: 0.0225\n",
            "Epoch 177/200\n",
            "120/120 [==============================] - 3s 22ms/step - loss: 0.0011 - mae: 0.0215\n",
            "Epoch 178/200\n",
            "120/120 [==============================] - 3s 22ms/step - loss: 0.0010 - mae: 0.0214\n",
            "Epoch 179/200\n",
            "120/120 [==============================] - 3s 22ms/step - loss: 0.0011 - mae: 0.0214\n",
            "Epoch 180/200\n",
            "120/120 [==============================] - 3s 22ms/step - loss: 0.0011 - mae: 0.0218\n",
            "Epoch 181/200\n",
            "120/120 [==============================] - 3s 22ms/step - loss: 0.0011 - mae: 0.0215\n",
            "Epoch 182/200\n",
            "120/120 [==============================] - 3s 22ms/step - loss: 0.0012 - mae: 0.0224\n",
            "Epoch 183/200\n",
            "120/120 [==============================] - 3s 22ms/step - loss: 0.0011 - mae: 0.0219\n",
            "Epoch 184/200\n",
            "120/120 [==============================] - 3s 22ms/step - loss: 0.0011 - mae: 0.0221\n",
            "Epoch 185/200\n",
            "120/120 [==============================] - 3s 22ms/step - loss: 0.0011 - mae: 0.0216\n",
            "Epoch 186/200\n",
            "120/120 [==============================] - 3s 22ms/step - loss: 0.0011 - mae: 0.0214\n",
            "Epoch 187/200\n",
            "120/120 [==============================] - 3s 22ms/step - loss: 0.0010 - mae: 0.0209\n",
            "Epoch 188/200\n",
            "120/120 [==============================] - 3s 22ms/step - loss: 0.0011 - mae: 0.0217\n",
            "Epoch 189/200\n",
            "120/120 [==============================] - 3s 22ms/step - loss: 0.0011 - mae: 0.0217\n",
            "Epoch 190/200\n",
            "120/120 [==============================] - 3s 22ms/step - loss: 0.0012 - mae: 0.0227\n",
            "Epoch 191/200\n",
            "120/120 [==============================] - 3s 22ms/step - loss: 0.0010 - mae: 0.0210\n",
            "Epoch 192/200\n",
            "120/120 [==============================] - 3s 22ms/step - loss: 0.0011 - mae: 0.0223\n",
            "Epoch 193/200\n",
            "120/120 [==============================] - 3s 22ms/step - loss: 0.0010 - mae: 0.0219\n",
            "Epoch 194/200\n",
            "120/120 [==============================] - 3s 22ms/step - loss: 0.0012 - mae: 0.0222\n",
            "Epoch 195/200\n",
            "120/120 [==============================] - 3s 22ms/step - loss: 0.0010 - mae: 0.0216\n",
            "Epoch 196/200\n",
            "120/120 [==============================] - 3s 22ms/step - loss: 0.0010 - mae: 0.0213\n",
            "Epoch 197/200\n",
            "120/120 [==============================] - 3s 22ms/step - loss: 0.0011 - mae: 0.0222\n",
            "Epoch 198/200\n",
            "120/120 [==============================] - 3s 22ms/step - loss: 0.0011 - mae: 0.0223\n",
            "Epoch 199/200\n",
            "120/120 [==============================] - 3s 22ms/step - loss: 0.0011 - mae: 0.0217\n",
            "Epoch 200/200\n",
            "120/120 [==============================] - 3s 22ms/step - loss: 0.0010 - mae: 0.0213\n"
          ]
        },
        {
          "output_type": "execute_result",
          "data": {
            "text/plain": [
              "<keras.callbacks.History at 0x7fb72c114c90>"
            ]
          },
          "metadata": {},
          "execution_count": 261
        }
      ]
    },
    {
      "cell_type": "code",
      "metadata": {
        "id": "Puf9S9KigOmQ"
      },
      "source": [
        "pred_kia_y = model.predict(test_kia_X)"
      ],
      "execution_count": 262,
      "outputs": []
    },
    {
      "cell_type": "code",
      "metadata": {
        "colab": {
          "base_uri": "https://localhost:8080/",
          "height": 295
        },
        "id": "D2feKuGTgKTs",
        "outputId": "0b5db810-69d0-41f9-a164-8f1752b7b870"
      },
      "source": [
        "# 시각화를 통한 테스트데이터와 예측값과의 차이 확인\n",
        "plt.figure()\n",
        "plt.plot(test_kia_y, color='red', label='real KIA Co. stock price')\n",
        "plt.plot(pred_kia_y, color='blue', label='predicted KIA Co. stock price')\n",
        "plt.title('KIA Co. stock price prediction model(window_size: 10)')\n",
        "plt.xlabel('time')\n",
        "plt.ylabel('stock price')\n",
        "plt.legend()\n",
        "plt.show()"
      ],
      "execution_count": 263,
      "outputs": [
        {
          "output_type": "display_data",
          "data": {
            "image/png": "[encoded data removed]",
            "text/plain": [
              "<Figure size 432x288 with 1 Axes>"
            ]
          },
          "metadata": {
            "needs_background": "light"
          }
        }
      ]
    },
    {
      "cell_type": "code",
      "metadata": {
        "colab": {
          "base_uri": "https://localhost:8080/"
        },
        "id": "p1oHmySdgSJV",
        "outputId": "4065a251-fba7-442e-ef47-03b0812a3fcd"
      },
      "source": [
        "# 예측 종가\n",
        "print('예측종가: ', int(df_kia.AdjClose[-1]*pred_kia_y[-1]/df_kia_y.AdjClose[-1]),'원')\n",
        "print('실제종가: 87,000원')\n",
        "print('예측종가 - 실제종가: ', int(df_kia.AdjClose[-1]*pred_kia_y[-1]/df_kia_y.AdjClose[-1])-87000)"
      ],
      "execution_count": 264,
      "outputs": [
        {
          "output_type": "stream",
          "name": "stdout",
          "text": [
            "예측종가:  75625 원\n",
            "실제종가: 87,000원\n",
            "예측종가 - 실제종가:  -11375\n"
          ]
        }
      ]
    },
    {
      "cell_type": "markdown",
      "metadata": {
        "id": "n4gqYtixHB5I"
      },
      "source": [
        "https://towardsdatascience.com/machine-learning-in-finance-why-you-should-not-use-lstms-to-predict-the-stock-market-3f7239b9832c \\\n",
        "Machine Learning in Finance: Why you shold not use LSTM's to Predict the Stock Market"
      ]
    },
    {
      "cell_type": "code",
      "metadata": {
        "id": "eUzwHdIwgoB4"
      },
      "source": [
        ""
      ],
      "execution_count": null,
      "outputs": []
    },
    {
      "cell_type": "code",
      "metadata": {
        "id": "gkArQWgr5UmP"
      },
      "source": [
        "# 모델 제작\n",
        "def create_model():\n",
        "    model = Sequential()\n",
        "    model.add(LSTM(units=32, return_sequences=True, input_shape=(10, 5)))\n",
        "    model.add(Dropout(0.1))\n",
        "    model.add(LSTM(units=32))\n",
        "    model.add(Dropout(0.1))\n",
        "#    model.add(Dense(units=256, activation='relu'))\n",
        "#    model.add(Dropout(0.1))\n",
        "#    model.add(Dense(units=256, activation='relu'))\n",
        "    model.add(Dropout(0.1))\n",
        "    model.add(Dense(units=1))\n",
        "\n",
        "    model.compile(optimizer='adam', loss='mean_squared_error', metrics=['accuracy'])\n",
        "    return model"
      ],
      "execution_count": 247,
      "outputs": []
    },
    {
      "cell_type": "code",
      "metadata": {
        "id": "IgrE9L575F_m"
      },
      "source": [
        "from sklearn.model_selection import GridSearchCV\n",
        "from tensorflow.keras.wrappers.scikit_learn import KerasClassifier"
      ],
      "execution_count": 240,
      "outputs": []
    },
    {
      "cell_type": "code",
      "metadata": {
        "colab": {
          "base_uri": "https://localhost:8080/"
        },
        "id": "3q0V611y5Lnn",
        "outputId": "054d8350-45fe-4c2d-94c2-057cbbd48795"
      },
      "source": [
        "wrapping = KerasClassifier(build_fn=create_model, verbose=0)"
      ],
      "execution_count": 246,
      "outputs": [
        {
          "output_type": "stream",
          "name": "stderr",
          "text": [
            "/usr/local/lib/python3.7/dist-packages/ipykernel_launcher.py:1: DeprecationWarning: KerasClassifier is deprecated, use Sci-Keras (https://github.com/adriangb/scikeras) instead.\n",
            "  \"\"\"Entry point for launching an IPython kernel.\n"
          ]
        }
      ]
    },
    {
      "cell_type": "code",
      "metadata": {
        "colab": {
          "base_uri": "https://localhost:8080/",
          "height": 450
        },
        "id": "i7VYjhA38tup",
        "outputId": "63883df5-3415-4084-8131-7cc351ca3a37"
      },
      "source": [
        "grid = GridSearchCV(estimator=wrapping, param_grid=param_grid, n_jobs=1)\n",
        "grid_result = grid.fit(kia_data_X, kia_data_y)"
      ],
      "execution_count": 244,
      "outputs": [
        {
          "output_type": "stream",
          "name": "stderr",
          "text": [
            "/usr/local/lib/python3.7/dist-packages/sklearn/model_selection/_validation.py:536: FitFailedWarning: Estimator fit failed. The score on this train-test partition for these parameters will be set to nan. Details: \n",
            "ValueError: Failed to find data adapter that can handle input: (<class 'list'> containing values of types {'(<class \\'list\\'> containing values of types {\\'(<class \\\\\\'list\\\\\\'> containing values of types {\"<class \\\\\\'float\\\\\\'>\"})\\'})'}), <class 'numpy.ndarray'>\n",
            "\n",
            "  FitFailedWarning)\n"
          ]
        },
        {
          "output_type": "error",
          "ename": "ValueError",
          "evalue": "ignored",
          "traceback": [
            "\u001b[0;31m---------------------------------------------------------------------------\u001b[0m",
            "\u001b[0;31mValueError\u001b[0m                                Traceback (most recent call last)",
            "\u001b[0;32m<ipython-input-244-0c3b7e6b9dfb>\u001b[0m in \u001b[0;36m<module>\u001b[0;34m()\u001b[0m\n\u001b[1;32m      1\u001b[0m \u001b[0mgrid\u001b[0m \u001b[0;34m=\u001b[0m \u001b[0mGridSearchCV\u001b[0m\u001b[0;34m(\u001b[0m\u001b[0mestimator\u001b[0m\u001b[0;34m=\u001b[0m\u001b[0mwrapping\u001b[0m\u001b[0;34m,\u001b[0m \u001b[0mparam_grid\u001b[0m\u001b[0;34m=\u001b[0m\u001b[0mparam_grid\u001b[0m\u001b[0;34m,\u001b[0m \u001b[0mn_jobs\u001b[0m\u001b[0;34m=\u001b[0m\u001b[0;36m1\u001b[0m\u001b[0;34m)\u001b[0m\u001b[0;34m\u001b[0m\u001b[0;34m\u001b[0m\u001b[0m\n\u001b[0;32m----> 2\u001b[0;31m \u001b[0mgrid_result\u001b[0m \u001b[0;34m=\u001b[0m \u001b[0mgrid\u001b[0m\u001b[0;34m.\u001b[0m\u001b[0mfit\u001b[0m\u001b[0;34m(\u001b[0m\u001b[0mkia_data_X\u001b[0m\u001b[0;34m,\u001b[0m \u001b[0mkia_data_y\u001b[0m\u001b[0;34m)\u001b[0m\u001b[0;34m\u001b[0m\u001b[0;34m\u001b[0m\u001b[0m\n\u001b[0m",
            "\u001b[0;32m/usr/local/lib/python3.7/dist-packages/sklearn/model_selection/_search.py\u001b[0m in \u001b[0;36mfit\u001b[0;34m(self, X, y, groups, **fit_params)\u001b[0m\n\u001b[1;32m    737\u001b[0m             \u001b[0mrefit_start_time\u001b[0m \u001b[0;34m=\u001b[0m \u001b[0mtime\u001b[0m\u001b[0;34m.\u001b[0m\u001b[0mtime\u001b[0m\u001b[0;34m(\u001b[0m\u001b[0;34m)\u001b[0m\u001b[0;34m\u001b[0m\u001b[0;34m\u001b[0m\u001b[0m\n\u001b[1;32m    738\u001b[0m             \u001b[0;32mif\u001b[0m \u001b[0my\u001b[0m \u001b[0;32mis\u001b[0m \u001b[0;32mnot\u001b[0m \u001b[0;32mNone\u001b[0m\u001b[0;34m:\u001b[0m\u001b[0;34m\u001b[0m\u001b[0;34m\u001b[0m\u001b[0m\n\u001b[0;32m--> 739\u001b[0;31m                 \u001b[0mself\u001b[0m\u001b[0;34m.\u001b[0m\u001b[0mbest_estimator_\u001b[0m\u001b[0;34m.\u001b[0m\u001b[0mfit\u001b[0m\u001b[0;34m(\u001b[0m\u001b[0mX\u001b[0m\u001b[0;34m,\u001b[0m \u001b[0my\u001b[0m\u001b[0;34m,\u001b[0m \u001b[0;34m**\u001b[0m\u001b[0mfit_params\u001b[0m\u001b[0;34m)\u001b[0m\u001b[0;34m\u001b[0m\u001b[0;34m\u001b[0m\u001b[0m\n\u001b[0m\u001b[1;32m    740\u001b[0m             \u001b[0;32melse\u001b[0m\u001b[0;34m:\u001b[0m\u001b[0;34m\u001b[0m\u001b[0;34m\u001b[0m\u001b[0m\n\u001b[1;32m    741\u001b[0m                 \u001b[0mself\u001b[0m\u001b[0;34m.\u001b[0m\u001b[0mbest_estimator_\u001b[0m\u001b[0;34m.\u001b[0m\u001b[0mfit\u001b[0m\u001b[0;34m(\u001b[0m\u001b[0mX\u001b[0m\u001b[0;34m,\u001b[0m \u001b[0;34m**\u001b[0m\u001b[0mfit_params\u001b[0m\u001b[0;34m)\u001b[0m\u001b[0;34m\u001b[0m\u001b[0;34m\u001b[0m\u001b[0m\n",
            "\u001b[0;32m/usr/local/lib/python3.7/dist-packages/keras/wrappers/scikit_learn.py\u001b[0m in \u001b[0;36mfit\u001b[0;34m(self, x, y, **kwargs)\u001b[0m\n\u001b[1;32m    230\u001b[0m       \u001b[0;32mraise\u001b[0m \u001b[0mValueError\u001b[0m\u001b[0;34m(\u001b[0m\u001b[0;34m'Invalid shape for y: '\u001b[0m \u001b[0;34m+\u001b[0m \u001b[0mstr\u001b[0m\u001b[0;34m(\u001b[0m\u001b[0my\u001b[0m\u001b[0;34m.\u001b[0m\u001b[0mshape\u001b[0m\u001b[0;34m)\u001b[0m\u001b[0;34m)\u001b[0m\u001b[0;34m\u001b[0m\u001b[0;34m\u001b[0m\u001b[0m\n\u001b[1;32m    231\u001b[0m     \u001b[0mself\u001b[0m\u001b[0;34m.\u001b[0m\u001b[0mn_classes_\u001b[0m \u001b[0;34m=\u001b[0m \u001b[0mlen\u001b[0m\u001b[0;34m(\u001b[0m\u001b[0mself\u001b[0m\u001b[0;34m.\u001b[0m\u001b[0mclasses_\u001b[0m\u001b[0;34m)\u001b[0m\u001b[0;34m\u001b[0m\u001b[0;34m\u001b[0m\u001b[0m\n\u001b[0;32m--> 232\u001b[0;31m     \u001b[0;32mreturn\u001b[0m \u001b[0msuper\u001b[0m\u001b[0;34m(\u001b[0m\u001b[0mKerasClassifier\u001b[0m\u001b[0;34m,\u001b[0m \u001b[0mself\u001b[0m\u001b[0;34m)\u001b[0m\u001b[0;34m.\u001b[0m\u001b[0mfit\u001b[0m\u001b[0;34m(\u001b[0m\u001b[0mx\u001b[0m\u001b[0;34m,\u001b[0m \u001b[0my\u001b[0m\u001b[0;34m,\u001b[0m \u001b[0;34m**\u001b[0m\u001b[0mkwargs\u001b[0m\u001b[0;34m)\u001b[0m\u001b[0;34m\u001b[0m\u001b[0;34m\u001b[0m\u001b[0m\n\u001b[0m\u001b[1;32m    233\u001b[0m \u001b[0;34m\u001b[0m\u001b[0m\n\u001b[1;32m    234\u001b[0m   \u001b[0;32mdef\u001b[0m \u001b[0mpredict\u001b[0m\u001b[0;34m(\u001b[0m\u001b[0mself\u001b[0m\u001b[0;34m,\u001b[0m \u001b[0mx\u001b[0m\u001b[0;34m,\u001b[0m \u001b[0;34m**\u001b[0m\u001b[0mkwargs\u001b[0m\u001b[0;34m)\u001b[0m\u001b[0;34m:\u001b[0m\u001b[0;34m\u001b[0m\u001b[0;34m\u001b[0m\u001b[0m\n",
            "\u001b[0;32m/usr/local/lib/python3.7/dist-packages/keras/wrappers/scikit_learn.py\u001b[0m in \u001b[0;36mfit\u001b[0;34m(self, x, y, **kwargs)\u001b[0m\n\u001b[1;32m    162\u001b[0m     \u001b[0mfit_args\u001b[0m\u001b[0;34m.\u001b[0m\u001b[0mupdate\u001b[0m\u001b[0;34m(\u001b[0m\u001b[0mkwargs\u001b[0m\u001b[0;34m)\u001b[0m\u001b[0;34m\u001b[0m\u001b[0;34m\u001b[0m\u001b[0m\n\u001b[1;32m    163\u001b[0m \u001b[0;34m\u001b[0m\u001b[0m\n\u001b[0;32m--> 164\u001b[0;31m     \u001b[0mhistory\u001b[0m \u001b[0;34m=\u001b[0m \u001b[0mself\u001b[0m\u001b[0;34m.\u001b[0m\u001b[0mmodel\u001b[0m\u001b[0;34m.\u001b[0m\u001b[0mfit\u001b[0m\u001b[0;34m(\u001b[0m\u001b[0mx\u001b[0m\u001b[0;34m,\u001b[0m \u001b[0my\u001b[0m\u001b[0;34m,\u001b[0m \u001b[0;34m**\u001b[0m\u001b[0mfit_args\u001b[0m\u001b[0;34m)\u001b[0m\u001b[0;34m\u001b[0m\u001b[0;34m\u001b[0m\u001b[0m\n\u001b[0m\u001b[1;32m    165\u001b[0m \u001b[0;34m\u001b[0m\u001b[0m\n\u001b[1;32m    166\u001b[0m     \u001b[0;32mreturn\u001b[0m \u001b[0mhistory\u001b[0m\u001b[0;34m\u001b[0m\u001b[0;34m\u001b[0m\u001b[0m\n",
            "\u001b[0;32m/usr/local/lib/python3.7/dist-packages/keras/utils/traceback_utils.py\u001b[0m in \u001b[0;36merror_handler\u001b[0;34m(*args, **kwargs)\u001b[0m\n\u001b[1;32m     65\u001b[0m     \u001b[0;32mexcept\u001b[0m \u001b[0mException\u001b[0m \u001b[0;32mas\u001b[0m \u001b[0me\u001b[0m\u001b[0;34m:\u001b[0m  \u001b[0;31m# pylint: disable=broad-except\u001b[0m\u001b[0;34m\u001b[0m\u001b[0;34m\u001b[0m\u001b[0m\n\u001b[1;32m     66\u001b[0m       \u001b[0mfiltered_tb\u001b[0m \u001b[0;34m=\u001b[0m \u001b[0m_process_traceback_frames\u001b[0m\u001b[0;34m(\u001b[0m\u001b[0me\u001b[0m\u001b[0;34m.\u001b[0m\u001b[0m__traceback__\u001b[0m\u001b[0;34m)\u001b[0m\u001b[0;34m\u001b[0m\u001b[0;34m\u001b[0m\u001b[0m\n\u001b[0;32m---> 67\u001b[0;31m       \u001b[0;32mraise\u001b[0m \u001b[0me\u001b[0m\u001b[0;34m.\u001b[0m\u001b[0mwith_traceback\u001b[0m\u001b[0;34m(\u001b[0m\u001b[0mfiltered_tb\u001b[0m\u001b[0;34m)\u001b[0m \u001b[0;32mfrom\u001b[0m \u001b[0;32mNone\u001b[0m\u001b[0;34m\u001b[0m\u001b[0;34m\u001b[0m\u001b[0m\n\u001b[0m\u001b[1;32m     68\u001b[0m     \u001b[0;32mfinally\u001b[0m\u001b[0;34m:\u001b[0m\u001b[0;34m\u001b[0m\u001b[0;34m\u001b[0m\u001b[0m\n\u001b[1;32m     69\u001b[0m       \u001b[0;32mdel\u001b[0m \u001b[0mfiltered_tb\u001b[0m\u001b[0;34m\u001b[0m\u001b[0;34m\u001b[0m\u001b[0m\n",
            "\u001b[0;32m/usr/local/lib/python3.7/dist-packages/keras/engine/data_adapter.py\u001b[0m in \u001b[0;36mselect_data_adapter\u001b[0;34m(x, y)\u001b[0m\n\u001b[1;32m    989\u001b[0m         \u001b[0;34m\"Failed to find data adapter that can handle \"\u001b[0m\u001b[0;34m\u001b[0m\u001b[0;34m\u001b[0m\u001b[0m\n\u001b[1;32m    990\u001b[0m         \"input: {}, {}\".format(\n\u001b[0;32m--> 991\u001b[0;31m             _type_name(x), _type_name(y)))\n\u001b[0m\u001b[1;32m    992\u001b[0m   \u001b[0;32melif\u001b[0m \u001b[0mlen\u001b[0m\u001b[0;34m(\u001b[0m\u001b[0madapter_cls\u001b[0m\u001b[0;34m)\u001b[0m \u001b[0;34m>\u001b[0m \u001b[0;36m1\u001b[0m\u001b[0;34m:\u001b[0m\u001b[0;34m\u001b[0m\u001b[0;34m\u001b[0m\u001b[0m\n\u001b[1;32m    993\u001b[0m     raise RuntimeError(\n",
            "\u001b[0;31mValueError\u001b[0m: Failed to find data adapter that can handle input: (<class 'list'> containing values of types {'(<class \\'list\\'> containing values of types {\\'(<class \\\\\\'list\\\\\\'> containing values of types {\"<class \\\\\\'float\\\\\\'>\"})\\'})'}), <class 'numpy.ndarray'>"
          ]
        }
      ]
    },
    {
      "cell_type": "code",
      "metadata": {
        "id": "SoQe0rCC8QX8"
      },
      "source": [
        "!pip freeze > requirements.txt"
      ],
      "execution_count": 245,
      "outputs": []
    },
    {
      "cell_type": "code",
      "metadata": {
        "id": "Sowq7BslSVo_"
      },
      "source": [
        "ㅎㄹㅎ"
      ],
      "execution_count": null,
      "outputs": []
    }
  ]
}